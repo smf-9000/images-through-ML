{
  "nbformat": 4,
  "nbformat_minor": 0,
  "metadata": {
    "colab": {
      "name": "fineTuningResNet50fromTF.ipynb",
      "provenance": [],
      "collapsed_sections": [],
      "include_colab_link": true
    },
    "kernelspec": {
      "name": "python3",
      "display_name": "Python 3"
    },
    "language_info": {
      "name": "python"
    },
    "accelerator": "GPU"
  },
  "cells": [
    {
      "cell_type": "markdown",
      "metadata": {
        "id": "view-in-github",
        "colab_type": "text"
      },
      "source": [
        "<a href=\"https://colab.research.google.com/github/smf-9000/images-through-ML/blob/main/fineTuningResNet50fromTF.ipynb\" target=\"_parent\"><img src=\"https://colab.research.google.com/assets/colab-badge.svg\" alt=\"Open In Colab\"/></a>"
      ]
    },
    {
      "cell_type": "code",
      "metadata": {
        "colab": {
          "base_uri": "https://localhost:8080/"
        },
        "id": "xzZgmJ0zIDpD",
        "outputId": "6671c7ad-cd76-43a8-b75d-2c0516b19203"
      },
      "source": [
        "from google.colab import drive\n",
        "drive.mount('/content/drive')"
      ],
      "execution_count": null,
      "outputs": [
        {
          "output_type": "stream",
          "text": [
            "Mounted at /content/drive\n"
          ],
          "name": "stdout"
        }
      ]
    },
    {
      "cell_type": "markdown",
      "metadata": {
        "id": "8Mm9x6UTxJ-f"
      },
      "source": [
        "## dataset"
      ]
    },
    {
      "cell_type": "code",
      "metadata": {
        "id": "pU2q5-quuZV9"
      },
      "source": [
        "import matplotlib.pyplot as plt\n",
        "import numpy as np\n",
        "import os\n",
        "import PIL\n",
        "import tensorflow as tf\n",
        "\n",
        "from tensorflow import keras\n",
        "from tensorflow.keras import layers\n",
        "from tensorflow.keras.models import Sequential"
      ],
      "execution_count": null,
      "outputs": []
    },
    {
      "cell_type": "code",
      "metadata": {
        "id": "5Q_6JbvDvV9e"
      },
      "source": [
        "# !mkdir /content/dataset_2\n",
        "# !unzip \"/content/drive/MyDrive/MY-WORK/datasets/image data of Natural Scenes around the world [kaggle]/archive.zip\" -d /content/dataset_2\n",
        "!unzip \"/content/drive/MyDrive/dataset_shortcuts/archive.zip\" -d /content/dataset_2"
      ],
      "execution_count": null,
      "outputs": []
    },
    {
      "cell_type": "code",
      "metadata": {
        "id": "0XGFoGG0zzbB"
      },
      "source": [
        "batch_size = 64\n",
        "img_height = 224\n",
        "img_width = 224"
      ],
      "execution_count": null,
      "outputs": []
    },
    {
      "cell_type": "code",
      "metadata": {
        "id": "dXB0G6LjIRKy"
      },
      "source": [
        "train_data_gen = tf.keras.preprocessing.image.ImageDataGenerator(\n",
        "                                                            rescale=1./255,\n",
        "                                                            shear_range=0.1,\n",
        "                                                            zoom_range=0.1,\n",
        "                                                            horizontal_flip=True)\n",
        "test_data_gen = tf.keras.preprocessing.image.ImageDataGenerator(rescale=1./255)"
      ],
      "execution_count": null,
      "outputs": []
    },
    {
      "cell_type": "code",
      "metadata": {
        "colab": {
          "base_uri": "https://localhost:8080/"
        },
        "id": "Fhy_tNfTvV6d",
        "outputId": "dc150692-5a87-4fce-edcd-967af72a7fae"
      },
      "source": [
        "train_ds = train_data_gen.flow_from_directory(\n",
        "        '/content/dataset_2/seg_train/seg_train',\n",
        "        target_size=(img_height, img_width),\n",
        "        batch_size=batch_size,\n",
        "        class_mode='sparse')"
      ],
      "execution_count": null,
      "outputs": [
        {
          "output_type": "stream",
          "text": [
            "Found 14034 images belonging to 6 classes.\n"
          ],
          "name": "stdout"
        }
      ]
    },
    {
      "cell_type": "code",
      "metadata": {
        "colab": {
          "base_uri": "https://localhost:8080/"
        },
        "id": "FeccPW8gxbjZ",
        "outputId": "30547f94-cf44-41e1-8e78-0437819a486a"
      },
      "source": [
        "val_ds = test_data_gen.flow_from_directory(\n",
        "        '/content/dataset_2/seg_test/seg_test',\n",
        "        target_size=(img_height, img_width),\n",
        "        batch_size=batch_size,\n",
        "        class_mode='sparse')"
      ],
      "execution_count": null,
      "outputs": [
        {
          "output_type": "stream",
          "text": [
            "Found 3000 images belonging to 6 classes.\n"
          ],
          "name": "stdout"
        }
      ]
    },
    {
      "cell_type": "code",
      "metadata": {
        "colab": {
          "base_uri": "https://localhost:8080/"
        },
        "id": "r_lTfRU_xbgd",
        "outputId": "40c9dee9-6873-46c8-9748-cf9426b2fad5"
      },
      "source": [
        "class_names = train_ds.class_indices\n",
        "print('class_names', class_names)\n",
        "no_of_classes = len(class_names)\n",
        "print('no_of_classes', no_of_classes)"
      ],
      "execution_count": null,
      "outputs": [
        {
          "output_type": "stream",
          "text": [
            "class_names {'buildings': 0, 'forest': 1, 'glacier': 2, 'mountain': 3, 'sea': 4, 'street': 5}\n",
            "no_of_classes 6\n"
          ],
          "name": "stdout"
        }
      ]
    },
    {
      "cell_type": "markdown",
      "metadata": {
        "id": "QWfOMLi3xT7S"
      },
      "source": [
        "## code"
      ]
    },
    {
      "cell_type": "code",
      "metadata": {
        "id": "7IPQ5ystvV3-"
      },
      "source": [
        "from tensorflow.keras.applications import ResNet50\n",
        "from tensorflow.keras.preprocessing import image\n",
        "from tensorflow.keras.models import Model, Sequential\n",
        "from tensorflow.keras import layers\n",
        "from tensorflow.keras.layers import Dense, AveragePooling2D, Dropout, Input"
      ],
      "execution_count": null,
      "outputs": []
    },
    {
      "cell_type": "code",
      "metadata": {
        "id": "XEZIkAZYvbmg"
      },
      "source": [
        "base_model = ResNet50(weights=\"imagenet\", include_top=False, input_tensor=Input(shape=(224, 224, 3)))"
      ],
      "execution_count": null,
      "outputs": []
    },
    {
      "cell_type": "code",
      "metadata": {
        "id": "h5GuoZlOvouX"
      },
      "source": [
        "base_model.summary()"
      ],
      "execution_count": null,
      "outputs": []
    },
    {
      "cell_type": "code",
      "metadata": {
        "id": "VHiagQiNxxfK"
      },
      "source": [
        "X = base_model.output\n",
        "X = AveragePooling2D((7,7), strides=(7,7))(X)\n",
        "X = layers.Flatten()(X)\n",
        "X = Dense(1024, activation='relu')(X)\n",
        "X = Dropout(0.4)(X)\n",
        "X = Dense(no_of_classes, activation='softmax')(X)\n",
        "\n",
        "model = Model(inputs=base_model.input, outputs=X)\n",
        "\n",
        "for layer in base_model.layers:\n",
        "    layer.trainable = False"
      ],
      "execution_count": null,
      "outputs": []
    },
    {
      "cell_type": "code",
      "metadata": {
        "id": "8S_rA5EM4Z15"
      },
      "source": [
        "model.summary()"
      ],
      "execution_count": null,
      "outputs": []
    },
    {
      "cell_type": "code",
      "metadata": {
        "id": "GNVjNQER2QsE"
      },
      "source": [
        "model.compile(\n",
        "          optimizer=tf.keras.optimizers.Adam(),\n",
        "          loss=tf.keras.losses.SparseCategoricalCrossentropy(),\n",
        "          metrics=['accuracy'])"
      ],
      "execution_count": null,
      "outputs": []
    },
    {
      "cell_type": "code",
      "metadata": {
        "colab": {
          "base_uri": "https://localhost:8080/"
        },
        "id": "RfL1okPM2Qo-",
        "outputId": "89da0f6a-f508-4b08-a0fe-fa6090b33df2"
      },
      "source": [
        "history = model.fit(\n",
        "                  train_ds, \n",
        "                  epochs = 5, \n",
        "                  batch_size = batch_size, \n",
        "                  validation_data=val_ds, \n",
        "                  validation_batch_size=batch_size)"
      ],
      "execution_count": null,
      "outputs": [
        {
          "output_type": "stream",
          "text": [
            "Epoch 1/5\n",
            "220/220 [==============================] - 187s 759ms/step - loss: 1.4701 - accuracy: 0.3794 - val_loss: 1.2611 - val_accuracy: 0.4230\n",
            "Epoch 2/5\n",
            "220/220 [==============================] - 165s 749ms/step - loss: 1.2308 - accuracy: 0.4824 - val_loss: 1.1173 - val_accuracy: 0.5613\n",
            "Epoch 3/5\n",
            "220/220 [==============================] - 164s 745ms/step - loss: 1.1418 - accuracy: 0.5344 - val_loss: 1.1204 - val_accuracy: 0.5540\n",
            "Epoch 4/5\n",
            "220/220 [==============================] - 163s 738ms/step - loss: 1.1123 - accuracy: 0.5454 - val_loss: 1.0248 - val_accuracy: 0.6003\n",
            "Epoch 5/5\n",
            "220/220 [==============================] - 165s 748ms/step - loss: 1.0609 - accuracy: 0.5708 - val_loss: 1.0574 - val_accuracy: 0.5563\n"
          ],
          "name": "stdout"
        }
      ]
    },
    {
      "cell_type": "code",
      "metadata": {
        "id": "oLAbZL4_5wha"
      },
      "source": [
        "import matplotlib.pyplot as plt\n",
        "from matplotlib.pyplot import imshow, imread"
      ],
      "execution_count": null,
      "outputs": []
    },
    {
      "cell_type": "code",
      "metadata": {
        "id": "TWabRcE95yZf"
      },
      "source": [
        "def plot_graphs(history, string):\n",
        "  plt.plot(history.history[string])\n",
        "  plt.plot(history.history['val_'+string])\n",
        "  plt.xlabel(\"Epochs\")\n",
        "  plt.ylabel(string)\n",
        "  plt.legend([string, 'val_'+string])\n",
        "  plt.show()"
      ],
      "execution_count": null,
      "outputs": []
    },
    {
      "cell_type": "code",
      "metadata": {
        "colab": {
          "base_uri": "https://localhost:8080/",
          "height": 541
        },
        "id": "goAFmYrq6HTv",
        "outputId": "c73edc4e-efb0-453f-97d6-dbe07b2b17dc"
      },
      "source": [
        "plot_graphs(history, 'accuracy')\n",
        "plot_graphs(history, \"loss\")"
      ],
      "execution_count": null,
      "outputs": [
        {
          "output_type": "display_data",
          "data": {
            "image/png": "[encoded data removed]",
            "text/plain": [
              "<Figure size 432x288 with 1 Axes>"
            ]
          },
          "metadata": {
            "tags": [],
            "needs_background": "light"
          }
        },
        {
          "output_type": "display_data",
          "data": {
            "image/png": "[encoded data removed]",
            "text/plain": [
              "<Figure size 432x288 with 1 Axes>"
            ]
          },
          "metadata": {
            "tags": [],
            "needs_background": "light"
          }
        }
      ]
    },
    {
      "cell_type": "code",
      "metadata": {
        "id": "YJvaX9VQ0jCn",
        "colab": {
          "base_uri": "https://localhost:8080/"
        },
        "outputId": "90c8510f-1d3c-4a72-ecf9-9351d57039b7"
      },
      "source": [
        "for i, layer in enumerate(base_model.layers):\n",
        "   print(i, layer.name)"
      ],
      "execution_count": null,
      "outputs": [
        {
          "output_type": "stream",
          "text": [
            "0 input_9\n",
            "1 conv1_pad\n",
            "2 conv1_conv\n",
            "3 conv1_bn\n",
            "4 conv1_relu\n",
            "5 pool1_pad\n",
            "6 pool1_pool\n",
            "7 conv2_block1_1_conv\n",
            "8 conv2_block1_1_bn\n",
            "9 conv2_block1_1_relu\n",
            "10 conv2_block1_2_conv\n",
            "11 conv2_block1_2_bn\n",
            "12 conv2_block1_2_relu\n",
            "13 conv2_block1_0_conv\n",
            "14 conv2_block1_3_conv\n",
            "15 conv2_block1_0_bn\n",
            "16 conv2_block1_3_bn\n",
            "17 conv2_block1_add\n",
            "18 conv2_block1_out\n",
            "19 conv2_block2_1_conv\n",
            "20 conv2_block2_1_bn\n",
            "21 conv2_block2_1_relu\n",
            "22 conv2_block2_2_conv\n",
            "23 conv2_block2_2_bn\n",
            "24 conv2_block2_2_relu\n",
            "25 conv2_block2_3_conv\n",
            "26 conv2_block2_3_bn\n",
            "27 conv2_block2_add\n",
            "28 conv2_block2_out\n",
            "29 conv2_block3_1_conv\n",
            "30 conv2_block3_1_bn\n",
            "31 conv2_block3_1_relu\n",
            "32 conv2_block3_2_conv\n",
            "33 conv2_block3_2_bn\n",
            "34 conv2_block3_2_relu\n",
            "35 conv2_block3_3_conv\n",
            "36 conv2_block3_3_bn\n",
            "37 conv2_block3_add\n",
            "38 conv2_block3_out\n",
            "39 conv3_block1_1_conv\n",
            "40 conv3_block1_1_bn\n",
            "41 conv3_block1_1_relu\n",
            "42 conv3_block1_2_conv\n",
            "43 conv3_block1_2_bn\n",
            "44 conv3_block1_2_relu\n",
            "45 conv3_block1_0_conv\n",
            "46 conv3_block1_3_conv\n",
            "47 conv3_block1_0_bn\n",
            "48 conv3_block1_3_bn\n",
            "49 conv3_block1_add\n",
            "50 conv3_block1_out\n",
            "51 conv3_block2_1_conv\n",
            "52 conv3_block2_1_bn\n",
            "53 conv3_block2_1_relu\n",
            "54 conv3_block2_2_conv\n",
            "55 conv3_block2_2_bn\n",
            "56 conv3_block2_2_relu\n",
            "57 conv3_block2_3_conv\n",
            "58 conv3_block2_3_bn\n",
            "59 conv3_block2_add\n",
            "60 conv3_block2_out\n",
            "61 conv3_block3_1_conv\n",
            "62 conv3_block3_1_bn\n",
            "63 conv3_block3_1_relu\n",
            "64 conv3_block3_2_conv\n",
            "65 conv3_block3_2_bn\n",
            "66 conv3_block3_2_relu\n",
            "67 conv3_block3_3_conv\n",
            "68 conv3_block3_3_bn\n",
            "69 conv3_block3_add\n",
            "70 conv3_block3_out\n",
            "71 conv3_block4_1_conv\n",
            "72 conv3_block4_1_bn\n",
            "73 conv3_block4_1_relu\n",
            "74 conv3_block4_2_conv\n",
            "75 conv3_block4_2_bn\n",
            "76 conv3_block4_2_relu\n",
            "77 conv3_block4_3_conv\n",
            "78 conv3_block4_3_bn\n",
            "79 conv3_block4_add\n",
            "80 conv3_block4_out\n",
            "81 conv4_block1_1_conv\n",
            "82 conv4_block1_1_bn\n",
            "83 conv4_block1_1_relu\n",
            "84 conv4_block1_2_conv\n",
            "85 conv4_block1_2_bn\n",
            "86 conv4_block1_2_relu\n",
            "87 conv4_block1_0_conv\n",
            "88 conv4_block1_3_conv\n",
            "89 conv4_block1_0_bn\n",
            "90 conv4_block1_3_bn\n",
            "91 conv4_block1_add\n",
            "92 conv4_block1_out\n",
            "93 conv4_block2_1_conv\n",
            "94 conv4_block2_1_bn\n",
            "95 conv4_block2_1_relu\n",
            "96 conv4_block2_2_conv\n",
            "97 conv4_block2_2_bn\n",
            "98 conv4_block2_2_relu\n",
            "99 conv4_block2_3_conv\n",
            "100 conv4_block2_3_bn\n",
            "101 conv4_block2_add\n",
            "102 conv4_block2_out\n",
            "103 conv4_block3_1_conv\n",
            "104 conv4_block3_1_bn\n",
            "105 conv4_block3_1_relu\n",
            "106 conv4_block3_2_conv\n",
            "107 conv4_block3_2_bn\n",
            "108 conv4_block3_2_relu\n",
            "109 conv4_block3_3_conv\n",
            "110 conv4_block3_3_bn\n",
            "111 conv4_block3_add\n",
            "112 conv4_block3_out\n",
            "113 conv4_block4_1_conv\n",
            "114 conv4_block4_1_bn\n",
            "115 conv4_block4_1_relu\n",
            "116 conv4_block4_2_conv\n",
            "117 conv4_block4_2_bn\n",
            "118 conv4_block4_2_relu\n",
            "119 conv4_block4_3_conv\n",
            "120 conv4_block4_3_bn\n",
            "121 conv4_block4_add\n",
            "122 conv4_block4_out\n",
            "123 conv4_block5_1_conv\n",
            "124 conv4_block5_1_bn\n",
            "125 conv4_block5_1_relu\n",
            "126 conv4_block5_2_conv\n",
            "127 conv4_block5_2_bn\n",
            "128 conv4_block5_2_relu\n",
            "129 conv4_block5_3_conv\n",
            "130 conv4_block5_3_bn\n",
            "131 conv4_block5_add\n",
            "132 conv4_block5_out\n",
            "133 conv4_block6_1_conv\n",
            "134 conv4_block6_1_bn\n",
            "135 conv4_block6_1_relu\n",
            "136 conv4_block6_2_conv\n",
            "137 conv4_block6_2_bn\n",
            "138 conv4_block6_2_relu\n",
            "139 conv4_block6_3_conv\n",
            "140 conv4_block6_3_bn\n",
            "141 conv4_block6_add\n",
            "142 conv4_block6_out\n",
            "143 conv5_block1_1_conv\n",
            "144 conv5_block1_1_bn\n",
            "145 conv5_block1_1_relu\n",
            "146 conv5_block1_2_conv\n",
            "147 conv5_block1_2_bn\n",
            "148 conv5_block1_2_relu\n",
            "149 conv5_block1_0_conv\n",
            "150 conv5_block1_3_conv\n",
            "151 conv5_block1_0_bn\n",
            "152 conv5_block1_3_bn\n",
            "153 conv5_block1_add\n",
            "154 conv5_block1_out\n",
            "155 conv5_block2_1_conv\n",
            "156 conv5_block2_1_bn\n",
            "157 conv5_block2_1_relu\n",
            "158 conv5_block2_2_conv\n",
            "159 conv5_block2_2_bn\n",
            "160 conv5_block2_2_relu\n",
            "161 conv5_block2_3_conv\n",
            "162 conv5_block2_3_bn\n",
            "163 conv5_block2_add\n",
            "164 conv5_block2_out\n",
            "165 conv5_block3_1_conv\n",
            "166 conv5_block3_1_bn\n",
            "167 conv5_block3_1_relu\n",
            "168 conv5_block3_2_conv\n",
            "169 conv5_block3_2_bn\n",
            "170 conv5_block3_2_relu\n",
            "171 conv5_block3_3_conv\n",
            "172 conv5_block3_3_bn\n",
            "173 conv5_block3_add\n",
            "174 conv5_block3_out\n"
          ],
          "name": "stdout"
        }
      ]
    },
    {
      "cell_type": "code",
      "metadata": {
        "id": "EYfQxUqCxxcG"
      },
      "source": [
        "# 81\n",
        "# let's train two last blocks\n",
        "for layer in model.layers[:81]:\n",
        "   layer.trainable = False\n",
        "for layer in model.layers[81:]:\n",
        "   layer.trainable = True"
      ],
      "execution_count": null,
      "outputs": []
    },
    {
      "cell_type": "code",
      "metadata": {
        "id": "dgAf5F5UxxZf"
      },
      "source": [
        "model.compile(\n",
        "          optimizer=tf.keras.optimizers.Adam(learning_rate=0.00001),\n",
        "          loss=tf.keras.losses.SparseCategoricalCrossentropy(),\n",
        "          metrics=['accuracy'])"
      ],
      "execution_count": null,
      "outputs": []
    },
    {
      "cell_type": "code",
      "metadata": {
        "colab": {
          "base_uri": "https://localhost:8080/"
        },
        "id": "lQTuFNBK3Q-B",
        "outputId": "c639a7b8-2fee-4e43-dc74-d36e2030cfb5"
      },
      "source": [
        "history = model.fit(\n",
        "                  train_ds, \n",
        "                  epochs = 10, \n",
        "                  batch_size = batch_size, \n",
        "                  validation_data=val_ds, \n",
        "                  validation_batch_size=batch_size)"
      ],
      "execution_count": null,
      "outputs": [
        {
          "output_type": "stream",
          "text": [
            "Epoch 1/10\n",
            "220/220 [==============================] - 184s 820ms/step - loss: 3.6255 - accuracy: 0.4947 - val_loss: 6.9182 - val_accuracy: 0.1493\n",
            "Epoch 2/10\n",
            "220/220 [==============================] - 179s 814ms/step - loss: 0.8538 - accuracy: 0.6702 - val_loss: 0.8472 - val_accuracy: 0.6390\n",
            "Epoch 3/10\n",
            "220/220 [==============================] - 180s 816ms/step - loss: 0.7235 - accuracy: 0.7267 - val_loss: 0.7960 - val_accuracy: 0.7057\n",
            "Epoch 4/10\n",
            "220/220 [==============================] - 179s 813ms/step - loss: 0.6583 - accuracy: 0.7534 - val_loss: 0.6663 - val_accuracy: 0.7437\n",
            "Epoch 5/10\n",
            "220/220 [==============================] - 180s 819ms/step - loss: 0.6022 - accuracy: 0.7816 - val_loss: 0.6666 - val_accuracy: 0.7620\n",
            "Epoch 6/10\n",
            "220/220 [==============================] - 180s 817ms/step - loss: 0.5581 - accuracy: 0.7926 - val_loss: 0.6125 - val_accuracy: 0.7860\n",
            "Epoch 7/10\n",
            "220/220 [==============================] - 181s 822ms/step - loss: 0.5253 - accuracy: 0.8088 - val_loss: 0.5876 - val_accuracy: 0.7880\n",
            "Epoch 8/10\n",
            "220/220 [==============================] - 179s 814ms/step - loss: 0.4919 - accuracy: 0.8182 - val_loss: 0.6472 - val_accuracy: 0.7683\n",
            "Epoch 9/10\n",
            "220/220 [==============================] - 180s 815ms/step - loss: 0.4653 - accuracy: 0.8338 - val_loss: 0.5435 - val_accuracy: 0.8047\n",
            "Epoch 10/10\n",
            "220/220 [==============================] - 179s 812ms/step - loss: 0.4420 - accuracy: 0.8393 - val_loss: 0.5454 - val_accuracy: 0.8077\n"
          ],
          "name": "stdout"
        }
      ]
    },
    {
      "cell_type": "code",
      "metadata": {
        "colab": {
          "base_uri": "https://localhost:8080/",
          "height": 541
        },
        "id": "vzPRvnCl52Yo",
        "outputId": "cd6cd54b-87aa-4378-8096-bb8bfedd766e"
      },
      "source": [
        "plot_graphs(history, 'accuracy')\n",
        "plot_graphs(history, \"loss\")"
      ],
      "execution_count": null,
      "outputs": [
        {
          "output_type": "display_data",
          "data": {
            "image/png": "[encoded data removed]",
            "text/plain": [
              "<Figure size 432x288 with 1 Axes>"
            ]
          },
          "metadata": {
            "tags": [],
            "needs_background": "light"
          }
        },
        {
          "output_type": "display_data",
          "data": {
            "image/png": "[encoded data removed]",
            "text/plain": [
              "<Figure size 432x288 with 1 Axes>"
            ]
          },
          "metadata": {
            "tags": [],
            "needs_background": "light"
          }
        }
      ]
    },
    {
      "cell_type": "code",
      "metadata": {
        "id": "edhGCjL03SKd"
      },
      "source": [
        ""
      ],
      "execution_count": null,
      "outputs": []
    }
  ]
}