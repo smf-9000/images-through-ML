{
  "nbformat": 4,
  "nbformat_minor": 0,
  "metadata": {
    "kernelspec": {
      "display_name": "Python 3",
      "language": "python",
      "name": "python3"
    },
    "language_info": {
      "codemirror_mode": {
        "name": "ipython",
        "version": 3
      },
      "file_extension": ".py",
      "mimetype": "text/x-python",
      "name": "python",
      "nbconvert_exporter": "python",
      "pygments_lexer": "ipython3",
      "version": "3.6.8"
    },
    "colab": {
      "name": "resNet50TransferLearning.ipynb",
      "provenance": [],
      "collapsed_sections": [],
      "include_colab_link": true
    },
    "accelerator": "GPU"
  },
  "cells": [
    {
      "cell_type": "markdown",
      "metadata": {
        "id": "view-in-github",
        "colab_type": "text"
      },
      "source": [
        "<a href=\"https://colab.research.google.com/github/smf-9000/images-through-ML/blob/main/resNet50TransferLearning.ipynb\" target=\"_parent\"><img src=\"https://colab.research.google.com/assets/colab-badge.svg\" alt=\"Open In Colab\"/></a>"
      ]
    },
    {
      "cell_type": "markdown",
      "metadata": {
        "id": "D1FFdjXcRwqU"
      },
      "source": [
        "\n",
        "\n",
        "```\n",
        "# just for practice, I used here pretrained weights from tfResNet50 model.\n",
        "```\n",
        "\n"
      ]
    },
    {
      "cell_type": "code",
      "metadata": {
        "colab": {
          "base_uri": "https://localhost:8080/"
        },
        "id": "KcqbHHG_5OYf",
        "outputId": "ac07a191-2dd7-4b80-f8fb-58e8dc3746cf"
      },
      "source": [
        "from google.colab import drive\n",
        "drive.mount('/content/drive')"
      ],
      "execution_count": null,
      "outputs": [
        {
          "output_type": "stream",
          "text": [
            "Mounted at /content/drive\n"
          ],
          "name": "stdout"
        }
      ]
    },
    {
      "cell_type": "markdown",
      "metadata": {
        "id": "kclKLLs4snOD"
      },
      "source": [
        "## dataset\n"
      ]
    },
    {
      "cell_type": "code",
      "metadata": {
        "id": "3WNHpTMbstxh"
      },
      "source": [
        "import matplotlib.pyplot as plt\n",
        "import numpy as np\n",
        "import os\n",
        "import PIL\n",
        "import tensorflow as tf\n",
        "\n",
        "from tensorflow import keras\n",
        "from tensorflow.keras import layers\n",
        "from tensorflow.keras.models import Sequential"
      ],
      "execution_count": null,
      "outputs": []
    },
    {
      "cell_type": "code",
      "metadata": {
        "id": "bxxbBpcBstvK"
      },
      "source": [
        "# !mkdir /content/dataset_2\n",
        "# !unzip \"/content/drive/MyDrive/MY-WORK/datasets/image data of Natural Scenes around the world [kaggle]/archive.zip\" -d /content/dataset_2\n",
        "!unzip \"/content/drive/MyDrive/dataset_shortcuts/archive.zip\" -d /content/dataset_2"
      ],
      "execution_count": null,
      "outputs": []
    },
    {
      "cell_type": "code",
      "metadata": {
        "id": "9w3wopqhs7S3"
      },
      "source": [
        "batch_size = 64\n",
        "img_height = 224\n",
        "img_width = 224"
      ],
      "execution_count": null,
      "outputs": []
    },
    {
      "cell_type": "code",
      "metadata": {
        "id": "3XHqMU-Gs-2D"
      },
      "source": [
        "train_data_gen = tf.keras.preprocessing.image.ImageDataGenerator()\n",
        "test_data_gen = tf.keras.preprocessing.image.ImageDataGenerator()"
      ],
      "execution_count": null,
      "outputs": []
    },
    {
      "cell_type": "code",
      "metadata": {
        "colab": {
          "base_uri": "https://localhost:8080/"
        },
        "id": "WkN_4Aifs-tj",
        "outputId": "a79d7d95-2209-4155-b7b7-d0a4f4e9fc41"
      },
      "source": [
        "train_ds = train_data_gen.flow_from_directory(\n",
        "        '/content/dataset_2/seg_train/seg_train',\n",
        "        target_size=(img_height, img_width),\n",
        "        batch_size=batch_size,\n",
        "        class_mode='sparse')"
      ],
      "execution_count": null,
      "outputs": [
        {
          "output_type": "stream",
          "text": [
            "Found 14034 images belonging to 6 classes.\n"
          ],
          "name": "stdout"
        }
      ]
    },
    {
      "cell_type": "code",
      "metadata": {
        "colab": {
          "base_uri": "https://localhost:8080/"
        },
        "id": "FUBf2PW1s7MV",
        "outputId": "2a5e77ff-9333-4910-ae3d-aa2c90c6a4c1"
      },
      "source": [
        "val_ds = test_data_gen.flow_from_directory(\n",
        "        '/content/dataset_2/seg_test/seg_test',\n",
        "        target_size=(img_height, img_width),\n",
        "        batch_size=batch_size,\n",
        "        class_mode='sparse')"
      ],
      "execution_count": null,
      "outputs": [
        {
          "output_type": "stream",
          "text": [
            "Found 3000 images belonging to 6 classes.\n"
          ],
          "name": "stdout"
        }
      ]
    },
    {
      "cell_type": "code",
      "metadata": {
        "colab": {
          "base_uri": "https://localhost:8080/"
        },
        "id": "dutligF3stqN",
        "outputId": "7d573004-ce61-4077-e0f1-cfb38ea3c4c9"
      },
      "source": [
        "class_names = train_ds.class_indices\n",
        "print('class_names', class_names)\n",
        "no_of_classes = len(class_names)\n",
        "print('no_of_classes', no_of_classes)"
      ],
      "execution_count": null,
      "outputs": [
        {
          "output_type": "stream",
          "text": [
            "class_names {'buildings': 0, 'forest': 1, 'glacier': 2, 'mountain': 3, 'sea': 4, 'street': 5}\n",
            "no_of_classes 6\n"
          ],
          "name": "stdout"
        }
      ]
    },
    {
      "cell_type": "markdown",
      "metadata": {
        "id": "g6Dlw66YmPo9"
      },
      "source": [
        "\n",
        "\n",
        "```\n",
        "# -----------------------------------------------------------\n",
        "```\n",
        "\n"
      ]
    },
    {
      "cell_type": "markdown",
      "metadata": {
        "id": "tv_IJfMXxcdd"
      },
      "source": [
        "## code"
      ]
    },
    {
      "cell_type": "code",
      "metadata": {
        "id": "eFEAe_vbIYin"
      },
      "source": [
        "import numpy as np\n",
        "from tensorflow.keras.models import Model, load_model\n",
        "from tensorflow.keras.preprocessing import image\n",
        "from tensorflow.keras.applications.imagenet_utils import preprocess_input\n",
        "from tensorflow.keras.initializers import glorot_uniform"
      ],
      "execution_count": null,
      "outputs": []
    },
    {
      "cell_type": "code",
      "metadata": {
        "id": "mmuTsh7KOtCX"
      },
      "source": [
        "data_augmentation = keras.Sequential(\n",
        "  [\n",
        "    layers.experimental.preprocessing.RandomFlip(\"horizontal\", \n",
        "                                                 input_shape=(img_height, \n",
        "                                                              img_width,\n",
        "                                                              3)),\n",
        "    layers.experimental.preprocessing.RandomRotation(0.1),\n",
        "    layers.experimental.preprocessing.RandomZoom(0.1),\n",
        "  ]\n",
        ")"
      ],
      "execution_count": null,
      "outputs": []
    },
    {
      "cell_type": "code",
      "metadata": {
        "id": "wXKgmuJisNli"
      },
      "source": [
        "# plt.figure(figsize=(10, 10))\n",
        "# image = train_ds.next()[0]\n",
        "# for i in range(9):\n",
        "#   augmented_images = data_augmentation(image)\n",
        "#   ax = plt.subplot(3, 3, i + 1)\n",
        "#   plt.imshow(augmented_images[0].numpy().astype(\"uint8\"))\n",
        "#   plt.axis(\"off\")"
      ],
      "execution_count": null,
      "outputs": []
    },
    {
      "cell_type": "code",
      "metadata": {
        "id": "U3f5-RgGIYip"
      },
      "source": [
        "def id_block(input_tensor, kernel_size, filters, L, B):\n",
        "  name_pre = 'conv' + str(L+1) + '_' + 'block' + str(B)\n",
        "\n",
        "  filters_1, filters_2, filters_3 = filters\n",
        "  \n",
        "  # whenever we use resNet, next three lines are always go together !!!!!\n",
        "  X = layers.Conv2D(filters = filters_1, kernel_size = (1, 1), strides = (1,1), name=name_pre + '_1_conv')(input_tensor)\n",
        "  X = layers.BatchNormalization(axis = 3, name=name_pre + '_1_bn')(X)\n",
        "  X = layers.Activation('relu', name=name_pre + '_1_relu')(X)\n",
        "\n",
        "  X = layers.Conv2D(filters = filters_2, kernel_size = kernel_size, strides = (1,1), padding = 'same', name=name_pre + '_2_conv')(X)\n",
        "  X = layers.BatchNormalization(axis = 3, name=name_pre + '_2_bn')(X)\n",
        "  X = layers.Activation('relu', name=name_pre + '_2_relu')(X)\n",
        "\n",
        "  X = layers.Conv2D(filters = filters_3, kernel_size = (1, 1), strides = (1,1), name=name_pre + '_3_conv')(X)\n",
        "  X = layers.BatchNormalization(axis = 3, name=name_pre + '_3_bn')(X)\n",
        "\n",
        "  X = layers.Add(name=name_pre + '_add')([X, input_tensor])\n",
        "  X = layers.Activation('relu', name=name_pre + '_3_relu')(X)  # !!!!!\n",
        "  \n",
        "  return X"
      ],
      "execution_count": null,
      "outputs": []
    },
    {
      "cell_type": "code",
      "metadata": {
        "id": "GAtTSZnKIYir"
      },
      "source": [
        "# when X is different shape than X_shortcut !!!!!\n",
        "def conv_block(input_tensor, kernel_size, filters, L, B, strides = (2,2)):\n",
        "  name_pre = 'conv' + str(L+1) + '_' + 'block' + str(B)\n",
        "\n",
        "  filters_1, filters_2, filters_3 = filters\n",
        "  \n",
        "  X = layers.Conv2D(filters = filters_1, kernel_size = (1, 1), strides = strides, name=name_pre + '_1_conv')(input_tensor)\n",
        "  X = layers.BatchNormalization(axis = 3, name=name_pre + '_1_bn')(X)\n",
        "  X = layers.Activation('relu', name=name_pre + '_1_relu')(X)\n",
        "\n",
        "  X = layers.Conv2D(filters = filters_2, kernel_size = kernel_size, strides = (1,1), padding = 'same', name=name_pre + '_2_conv')(X)\n",
        "  X = layers.BatchNormalization(axis = 3, name=name_pre + '_2_bn')(X)\n",
        "  X = layers.Activation('relu', name=name_pre + '_2_relu')(X)\n",
        "\n",
        "  X = layers.Conv2D(filters = filters_3, kernel_size = (1, 1), strides = (1,1), name=name_pre + '_3_conv')(X)\n",
        "  X = layers.BatchNormalization(axis = 3, name=name_pre + '_3_bn')(X)\n",
        "\n",
        "  # !!!!!\n",
        "  X_shortcut = layers.Conv2D(filters = filters_3, kernel_size = (1, 1), strides = strides, name=name_pre + '_0_conv')(input_tensor)\n",
        "  X_shortcut = layers.BatchNormalization(axis = 3, name=name_pre + '_0_bn')(X_shortcut)\n",
        "\n",
        "  X = layers.Add(name=name_pre + '_add')([X, X_shortcut])\n",
        "  X = layers.Activation('relu', name=name_pre + '_3_relu')(X) # !!!!!\n",
        "  \n",
        "  return X"
      ],
      "execution_count": null,
      "outputs": []
    },
    {
      "cell_type": "markdown",
      "metadata": {
        "id": "g7PfFMJ_IYir"
      },
      "source": [
        "\n",
        "# ResNet 50 "
      ]
    },
    {
      "cell_type": "code",
      "metadata": {
        "id": "zbk3dr3yIYit"
      },
      "source": [
        "def ResNet_50(input_shape=(224, 224, 3), classes=no_of_classes):\n",
        "\n",
        "  X_input = layers.Input(input_shape)\n",
        "\n",
        "  X = data_augmentation(X_input)\n",
        "  X = layers.experimental.preprocessing.Rescaling(1./255)(X)\n",
        "\n",
        "  X = layers.Conv2D(64, (7, 7), strides=(2, 2), padding='same', name = 'conv1_conv')(X) \n",
        "  X = layers.BatchNormalization(axis=3, name = 'conv1_bn')(X) \n",
        "  X = layers.Activation('relu')(X)\n",
        "  X = layers.MaxPooling2D((3, 3), strides=(2, 2), padding='same')(X)\n",
        "\n",
        "  X = conv_block(X, kernel_size=(3,3), filters=[64, 64, 256], L=1, B=1, strides=(1, 1))\n",
        "  X = id_block(X, kernel_size=(3,3), filters=[64, 64, 256], L=1, B=2) \n",
        "  X = id_block(X, kernel_size=(3,3), filters=[64, 64, 256], L=1, B=3)\n",
        "\n",
        "  X = conv_block(X, kernel_size=(3,3), filters=[128, 128, 512], L=2, B=1)\n",
        "  X = id_block(X, kernel_size=(3,3), filters=[128, 128, 512], L=2, B=2)\n",
        "  X = id_block(X, kernel_size=(3,3), filters=[128, 128, 512], L=2, B=3)\n",
        "  X = id_block(X, kernel_size=(3,3), filters=[128, 128, 512], L=2, B=4)\n",
        "\n",
        "  X = conv_block(X, kernel_size=(3,3), filters=[256, 256, 1024], L=3, B=1)\n",
        "  X = id_block(X, kernel_size=(3,3), filters=[256, 256, 1024], L=3, B=2)\n",
        "  X = id_block(X, kernel_size=(3,3), filters=[256, 256, 1024], L=3, B=3)\n",
        "  X = id_block(X, kernel_size=(3,3), filters=[256, 256, 1024], L=3, B=4)\n",
        "  X = id_block(X, kernel_size=(3,3), filters=[256, 256, 1024], L=3, B=5)\n",
        "  X = id_block(X, kernel_size=(3,3), filters=[256, 256, 1024], L=3, B=6)\n",
        "\n",
        "  X = conv_block(X, kernel_size=(3,3), filters=[512, 512, 2048], L=4, B=1)\n",
        "  X = id_block(X, kernel_size=(3,3), filters=[512, 512, 2048], L=4, B=2)\n",
        "  X = id_block(X, kernel_size=(3,3), filters=[512, 512, 2048], L=4, B=3)\n",
        "\n",
        "  X = layers.AveragePooling2D((7,7), strides=(7,7))(X)\n",
        "\n",
        "  X = layers.Flatten()(X)\n",
        "  X = layers.Dense(2048, activation='relu')(X)\n",
        "  X = layers.Dropout(rate=0.4)(X)\n",
        "  X = layers.Dense(512, activation='relu')(X)\n",
        "  X = layers.Dropout(rate=0.4)(X)\n",
        "  X = layers.Dense(classes, name='fc' + str(classes))(X) # activation='softmax',\n",
        "  \n",
        "  model = Model(inputs = X_input, outputs = X, name='resNet_50')\n",
        "\n",
        "  return model\n"
      ],
      "execution_count": null,
      "outputs": []
    },
    {
      "cell_type": "code",
      "metadata": {
        "id": "Oy3cPHK4IYit"
      },
      "source": [
        "model = ResNet_50(input_shape = (224, 224, 3), classes = no_of_classes)"
      ],
      "execution_count": null,
      "outputs": []
    },
    {
      "cell_type": "code",
      "metadata": {
        "id": "_ga31_GVIYiu"
      },
      "source": [
        "# model.summary()"
      ],
      "execution_count": null,
      "outputs": []
    },
    {
      "cell_type": "code",
      "metadata": {
        "id": "KkQ_lTg7vFuF"
      },
      "source": [
        "# -----------------------------------------------------------"
      ],
      "execution_count": null,
      "outputs": []
    },
    {
      "cell_type": "markdown",
      "metadata": {
        "id": "z5dQHVRU6871"
      },
      "source": [
        "## trLearning"
      ]
    },
    {
      "cell_type": "code",
      "metadata": {
        "id": "_bqqYDd-vJMt"
      },
      "source": [
        "from tensorflow.keras.applications import ResNet50\n",
        "from tensorflow.keras.layers import Input"
      ],
      "execution_count": null,
      "outputs": []
    },
    {
      "cell_type": "code",
      "metadata": {
        "id": "hdUjYbNWvFqb"
      },
      "source": [
        "base_model = ResNet50(weights=\"imagenet\", include_top=False, input_tensor=Input(shape=(224, 224, 3)))"
      ],
      "execution_count": null,
      "outputs": []
    },
    {
      "cell_type": "code",
      "metadata": {
        "id": "rW777thxvSCU"
      },
      "source": [
        "# base_model.summary()"
      ],
      "execution_count": null,
      "outputs": []
    },
    {
      "cell_type": "code",
      "metadata": {
        "colab": {
          "base_uri": "https://localhost:8080/"
        },
        "id": "h6H1ORWTvtPq",
        "outputId": "71c38c77-7553-4847-f5f7-6c5b4ae95629"
      },
      "source": [
        "LAYERS = {}\n",
        "for layer in base_model.layers:\n",
        "  LAYERS[layer.name] = layer.get_weights()\n",
        "LAYERS.keys()"
      ],
      "execution_count": null,
      "outputs": [
        {
          "output_type": "execute_result",
          "data": {
            "text/plain": [
              "dict_keys(['input_7', 'conv1_pad', 'conv1_conv', 'conv1_bn', 'conv1_relu', 'pool1_pad', 'pool1_pool', 'conv2_block1_1_conv', 'conv2_block1_1_bn', 'conv2_block1_1_relu', 'conv2_block1_2_conv', 'conv2_block1_2_bn', 'conv2_block1_2_relu', 'conv2_block1_0_conv', 'conv2_block1_3_conv', 'conv2_block1_0_bn', 'conv2_block1_3_bn', 'conv2_block1_add', 'conv2_block1_out', 'conv2_block2_1_conv', 'conv2_block2_1_bn', 'conv2_block2_1_relu', 'conv2_block2_2_conv', 'conv2_block2_2_bn', 'conv2_block2_2_relu', 'conv2_block2_3_conv', 'conv2_block2_3_bn', 'conv2_block2_add', 'conv2_block2_out', 'conv2_block3_1_conv', 'conv2_block3_1_bn', 'conv2_block3_1_relu', 'conv2_block3_2_conv', 'conv2_block3_2_bn', 'conv2_block3_2_relu', 'conv2_block3_3_conv', 'conv2_block3_3_bn', 'conv2_block3_add', 'conv2_block3_out', 'conv3_block1_1_conv', 'conv3_block1_1_bn', 'conv3_block1_1_relu', 'conv3_block1_2_conv', 'conv3_block1_2_bn', 'conv3_block1_2_relu', 'conv3_block1_0_conv', 'conv3_block1_3_conv', 'conv3_block1_0_bn', 'conv3_block1_3_bn', 'conv3_block1_add', 'conv3_block1_out', 'conv3_block2_1_conv', 'conv3_block2_1_bn', 'conv3_block2_1_relu', 'conv3_block2_2_conv', 'conv3_block2_2_bn', 'conv3_block2_2_relu', 'conv3_block2_3_conv', 'conv3_block2_3_bn', 'conv3_block2_add', 'conv3_block2_out', 'conv3_block3_1_conv', 'conv3_block3_1_bn', 'conv3_block3_1_relu', 'conv3_block3_2_conv', 'conv3_block3_2_bn', 'conv3_block3_2_relu', 'conv3_block3_3_conv', 'conv3_block3_3_bn', 'conv3_block3_add', 'conv3_block3_out', 'conv3_block4_1_conv', 'conv3_block4_1_bn', 'conv3_block4_1_relu', 'conv3_block4_2_conv', 'conv3_block4_2_bn', 'conv3_block4_2_relu', 'conv3_block4_3_conv', 'conv3_block4_3_bn', 'conv3_block4_add', 'conv3_block4_out', 'conv4_block1_1_conv', 'conv4_block1_1_bn', 'conv4_block1_1_relu', 'conv4_block1_2_conv', 'conv4_block1_2_bn', 'conv4_block1_2_relu', 'conv4_block1_0_conv', 'conv4_block1_3_conv', 'conv4_block1_0_bn', 'conv4_block1_3_bn', 'conv4_block1_add', 'conv4_block1_out', 'conv4_block2_1_conv', 'conv4_block2_1_bn', 'conv4_block2_1_relu', 'conv4_block2_2_conv', 'conv4_block2_2_bn', 'conv4_block2_2_relu', 'conv4_block2_3_conv', 'conv4_block2_3_bn', 'conv4_block2_add', 'conv4_block2_out', 'conv4_block3_1_conv', 'conv4_block3_1_bn', 'conv4_block3_1_relu', 'conv4_block3_2_conv', 'conv4_block3_2_bn', 'conv4_block3_2_relu', 'conv4_block3_3_conv', 'conv4_block3_3_bn', 'conv4_block3_add', 'conv4_block3_out', 'conv4_block4_1_conv', 'conv4_block4_1_bn', 'conv4_block4_1_relu', 'conv4_block4_2_conv', 'conv4_block4_2_bn', 'conv4_block4_2_relu', 'conv4_block4_3_conv', 'conv4_block4_3_bn', 'conv4_block4_add', 'conv4_block4_out', 'conv4_block5_1_conv', 'conv4_block5_1_bn', 'conv4_block5_1_relu', 'conv4_block5_2_conv', 'conv4_block5_2_bn', 'conv4_block5_2_relu', 'conv4_block5_3_conv', 'conv4_block5_3_bn', 'conv4_block5_add', 'conv4_block5_out', 'conv4_block6_1_conv', 'conv4_block6_1_bn', 'conv4_block6_1_relu', 'conv4_block6_2_conv', 'conv4_block6_2_bn', 'conv4_block6_2_relu', 'conv4_block6_3_conv', 'conv4_block6_3_bn', 'conv4_block6_add', 'conv4_block6_out', 'conv5_block1_1_conv', 'conv5_block1_1_bn', 'conv5_block1_1_relu', 'conv5_block1_2_conv', 'conv5_block1_2_bn', 'conv5_block1_2_relu', 'conv5_block1_0_conv', 'conv5_block1_3_conv', 'conv5_block1_0_bn', 'conv5_block1_3_bn', 'conv5_block1_add', 'conv5_block1_out', 'conv5_block2_1_conv', 'conv5_block2_1_bn', 'conv5_block2_1_relu', 'conv5_block2_2_conv', 'conv5_block2_2_bn', 'conv5_block2_2_relu', 'conv5_block2_3_conv', 'conv5_block2_3_bn', 'conv5_block2_add', 'conv5_block2_out', 'conv5_block3_1_conv', 'conv5_block3_1_bn', 'conv5_block3_1_relu', 'conv5_block3_2_conv', 'conv5_block3_2_bn', 'conv5_block3_2_relu', 'conv5_block3_3_conv', 'conv5_block3_3_bn', 'conv5_block3_add', 'conv5_block3_out'])"
            ]
          },
          "metadata": {
            "tags": []
          },
          "execution_count": 53
        }
      ]
    },
    {
      "cell_type": "code",
      "metadata": {
        "id": "sxdFFt3rvR-3"
      },
      "source": [
        "for layer in model.layers:\n",
        "  l_name = layer.name\n",
        "  if l_name in LAYERS:\n",
        "    # print('-------------', l_name)\n",
        "    layer.set_weights(LAYERS[l_name])\n",
        "    layer.trainable = False"
      ],
      "execution_count": null,
      "outputs": []
    },
    {
      "cell_type": "code",
      "metadata": {
        "id": "PHb5cDlFvFnL"
      },
      "source": [
        "# -----------------------------------------------------------"
      ],
      "execution_count": null,
      "outputs": []
    },
    {
      "cell_type": "markdown",
      "metadata": {
        "id": "nUxfh4iC7Ial"
      },
      "source": [
        "## restOfCode"
      ]
    },
    {
      "cell_type": "code",
      "metadata": {
        "id": "KgU3Um_qRCR2"
      },
      "source": [
        "# training for dense layers"
      ],
      "execution_count": null,
      "outputs": []
    },
    {
      "cell_type": "code",
      "metadata": {
        "id": "gITmHBcrIYiu"
      },
      "source": [
        "model.compile(\n",
        "          optimizer=tf.keras.optimizers.Adam(),\n",
        "          loss=tf.keras.losses.SparseCategoricalCrossentropy(from_logits=True),\n",
        "          metrics=['accuracy'])"
      ],
      "execution_count": null,
      "outputs": []
    },
    {
      "cell_type": "code",
      "metadata": {
        "id": "Ggyb61tsIYiw",
        "colab": {
          "base_uri": "https://localhost:8080/"
        },
        "outputId": "c8773131-a039-4e5e-f8c6-1146cf45705e"
      },
      "source": [
        "history = model.fit(\n",
        "                  train_ds, \n",
        "                  epochs = 5, \n",
        "                  batch_size = batch_size, \n",
        "                  validation_data=val_ds, \n",
        "                  validation_batch_size=batch_size) "
      ],
      "execution_count": null,
      "outputs": [
        {
          "output_type": "stream",
          "text": [
            "Epoch 1/5\n",
            "220/220 [==============================] - 77s 338ms/step - loss: 1.5786 - accuracy: 0.3024 - val_loss: 1.3753 - val_accuracy: 0.3707\n",
            "Epoch 2/5\n",
            "220/220 [==============================] - 74s 335ms/step - loss: 1.3944 - accuracy: 0.3851 - val_loss: 1.2704 - val_accuracy: 0.4283\n",
            "Epoch 3/5\n",
            "220/220 [==============================] - 74s 336ms/step - loss: 1.3431 - accuracy: 0.4052 - val_loss: 1.2388 - val_accuracy: 0.4573\n",
            "Epoch 4/5\n",
            "220/220 [==============================] - 74s 337ms/step - loss: 1.3076 - accuracy: 0.4326 - val_loss: 1.2022 - val_accuracy: 0.4763\n",
            "Epoch 5/5\n",
            "220/220 [==============================] - 74s 336ms/step - loss: 1.2917 - accuracy: 0.4416 - val_loss: 1.2096 - val_accuracy: 0.4603\n"
          ],
          "name": "stdout"
        }
      ]
    },
    {
      "cell_type": "code",
      "metadata": {
        "id": "QM2BQed_w2I2"
      },
      "source": [
        "import matplotlib.pyplot as plt\n",
        "from matplotlib.pyplot import imshow, imread"
      ],
      "execution_count": null,
      "outputs": []
    },
    {
      "cell_type": "code",
      "metadata": {
        "id": "PyI8EVlaEfF9"
      },
      "source": [
        "def plot_graphs(history, string):\n",
        "  plt.plot(history.history[string])\n",
        "  plt.plot(history.history['val_'+string])\n",
        "  plt.xlabel(\"Epochs\")\n",
        "  plt.ylabel(string)\n",
        "  plt.legend([string, 'val_'+string])\n",
        "  plt.show()"
      ],
      "execution_count": null,
      "outputs": []
    },
    {
      "cell_type": "code",
      "metadata": {
        "colab": {
          "base_uri": "https://localhost:8080/",
          "height": 541
        },
        "id": "ZdrCE_JbEgl_",
        "outputId": "8ed68b82-3592-4de6-bd41-fbb771e002d4"
      },
      "source": [
        "plot_graphs(history, 'accuracy')\n",
        "plot_graphs(history, \"loss\")"
      ],
      "execution_count": null,
      "outputs": [
        {
          "output_type": "display_data",
          "data": {
            "image/png": "[encoded data removed]",
            "text/plain": [
              "<Figure size 432x288 with 1 Axes>"
            ]
          },
          "metadata": {
            "tags": [],
            "needs_background": "light"
          }
        },
        {
          "output_type": "display_data",
          "data": {
            "image/png": "[encoded data removed]",
            "text/plain": [
              "<Figure size 432x288 with 1 Axes>"
            ]
          },
          "metadata": {
            "tags": [],
            "needs_background": "light"
          }
        }
      ]
    },
    {
      "cell_type": "code",
      "metadata": {
        "id": "HQG1Me7cIYiw",
        "colab": {
          "base_uri": "https://localhost:8080/"
        },
        "outputId": "2c3ade4a-0c58-459a-8b3c-ac897f005408"
      },
      "source": [
        "preds = model.evaluate(val_ds)\n",
        "print (\"Loss = \" + str(preds[0]))\n",
        "print (\"Test Accuracy = \" + str(preds[1]))"
      ],
      "execution_count": null,
      "outputs": [
        {
          "output_type": "stream",
          "text": [
            "47/47 [==============================] - 13s 267ms/step - loss: 1.2096 - accuracy: 0.4603\n",
            "Loss = 1.2096443176269531\n",
            "Test Accuracy = 0.46033334732055664\n"
          ],
          "name": "stdout"
        }
      ]
    },
    {
      "cell_type": "code",
      "metadata": {
        "id": "2rIRx79y9gJc"
      },
      "source": [
        "# -----------------------------------------------------------"
      ],
      "execution_count": null,
      "outputs": []
    },
    {
      "cell_type": "code",
      "metadata": {
        "id": "XQns4jXERfUC"
      },
      "source": [
        "# training for whole network"
      ],
      "execution_count": null,
      "outputs": []
    },
    {
      "cell_type": "code",
      "metadata": {
        "id": "Engmvv4w9W8D"
      },
      "source": [
        "for layer in model.layers:\n",
        "  layer.trainable = True    "
      ],
      "execution_count": null,
      "outputs": []
    },
    {
      "cell_type": "code",
      "metadata": {
        "id": "ObyAfcOP8zZL"
      },
      "source": [
        "model.compile(\n",
        "          optimizer=tf.keras.optimizers.Adam(learning_rate=0.00001),\n",
        "          loss=tf.keras.losses.SparseCategoricalCrossentropy(from_logits=True),\n",
        "          metrics=['accuracy'])"
      ],
      "execution_count": null,
      "outputs": []
    },
    {
      "cell_type": "code",
      "metadata": {
        "id": "SpzQcF0i897_",
        "colab": {
          "base_uri": "https://localhost:8080/"
        },
        "outputId": "61151037-a647-48fa-d30e-e178958fbfc8"
      },
      "source": [
        "history = model.fit(\n",
        "                  train_ds, \n",
        "                  epochs = 15, \n",
        "                  batch_size = batch_size, \n",
        "                  validation_data=val_ds, \n",
        "                  validation_batch_size=batch_size) "
      ],
      "execution_count": null,
      "outputs": [
        {
          "output_type": "stream",
          "text": [
            "Epoch 1/15\n",
            "220/220 [==============================] - 212s 940ms/step - loss: 9.3893 - accuracy: 0.4332 - val_loss: 28.7640 - val_accuracy: 0.1460\n",
            "Epoch 2/15\n",
            "220/220 [==============================] - 206s 935ms/step - loss: 0.8848 - accuracy: 0.6438 - val_loss: 15.3797 - val_accuracy: 0.2693\n",
            "Epoch 3/15\n",
            "220/220 [==============================] - 207s 939ms/step - loss: 0.6582 - accuracy: 0.7448 - val_loss: 1.9547 - val_accuracy: 0.5560\n",
            "Epoch 4/15\n",
            "220/220 [==============================] - 207s 940ms/step - loss: 0.5374 - accuracy: 0.8022 - val_loss: 0.7149 - val_accuracy: 0.7480\n",
            "Epoch 5/15\n",
            "220/220 [==============================] - 207s 941ms/step - loss: 0.4420 - accuracy: 0.8417 - val_loss: 0.4464 - val_accuracy: 0.8417\n",
            "Epoch 6/15\n",
            "220/220 [==============================] - 207s 940ms/step - loss: 0.3673 - accuracy: 0.8664 - val_loss: 0.3844 - val_accuracy: 0.8683\n",
            "Epoch 7/15\n",
            "220/220 [==============================] - 207s 940ms/step - loss: 0.3259 - accuracy: 0.8867 - val_loss: 0.3460 - val_accuracy: 0.8917\n",
            "Epoch 8/15\n",
            "220/220 [==============================] - 207s 939ms/step - loss: 0.2921 - accuracy: 0.8962 - val_loss: 0.3178 - val_accuracy: 0.9027\n",
            "Epoch 9/15\n",
            "220/220 [==============================] - 207s 939ms/step - loss: 0.2586 - accuracy: 0.9081 - val_loss: 0.3038 - val_accuracy: 0.9053\n",
            "Epoch 10/15\n",
            "220/220 [==============================] - 207s 939ms/step - loss: 0.2517 - accuracy: 0.9111 - val_loss: 0.2886 - val_accuracy: 0.9123\n",
            "Epoch 11/15\n",
            "220/220 [==============================] - 207s 939ms/step - loss: 0.2316 - accuracy: 0.9194 - val_loss: 0.2718 - val_accuracy: 0.9150\n",
            "Epoch 12/15\n",
            "220/220 [==============================] - 207s 939ms/step - loss: 0.2081 - accuracy: 0.9262 - val_loss: 0.2605 - val_accuracy: 0.9167\n",
            "Epoch 13/15\n",
            "220/220 [==============================] - 207s 939ms/step - loss: 0.2006 - accuracy: 0.9284 - val_loss: 0.3033 - val_accuracy: 0.9080\n",
            "Epoch 14/15\n",
            "220/220 [==============================] - 207s 939ms/step - loss: 0.1851 - accuracy: 0.9335 - val_loss: 0.2683 - val_accuracy: 0.9143\n",
            "Epoch 15/15\n",
            "220/220 [==============================] - 207s 939ms/step - loss: 0.1808 - accuracy: 0.9350 - val_loss: 0.2723 - val_accuracy: 0.9173\n"
          ],
          "name": "stdout"
        }
      ]
    },
    {
      "cell_type": "code",
      "metadata": {
        "colab": {
          "base_uri": "https://localhost:8080/",
          "height": 544
        },
        "id": "FAhQBTjED4Dj",
        "outputId": "7dbd2d40-dd06-4b7e-839f-51912907f379"
      },
      "source": [
        "plot_graphs(history, 'accuracy')\n",
        "plot_graphs(history, \"loss\")"
      ],
      "execution_count": null,
      "outputs": [
        {
          "output_type": "display_data",
          "data": {
            "image/png": "[encoded data removed]",
            "text/plain": [
              "<Figure size 432x288 with 1 Axes>"
            ]
          },
          "metadata": {
            "tags": [],
            "needs_background": "light"
          }
        },
        {
          "output_type": "display_data",
          "data": {
            "image/png": "[encoded data removed]",
            "text/plain": [
              "<Figure size 432x288 with 1 Axes>"
            ]
          },
          "metadata": {
            "tags": [],
            "needs_background": "light"
          }
        }
      ]
    },
    {
      "cell_type": "code",
      "metadata": {
        "colab": {
          "base_uri": "https://localhost:8080/"
        },
        "id": "4wKMlD7ED7g1",
        "outputId": "4a349852-f6bc-49ab-b804-a244653be48f"
      },
      "source": [
        "preds = model.evaluate(val_ds)\n",
        "print (\"Loss = \" + str(preds[0]))\n",
        "print (\"Test Accuracy = \" + str(preds[1]))"
      ],
      "execution_count": null,
      "outputs": [
        {
          "output_type": "stream",
          "text": [
            "47/47 [==============================] - 13s 267ms/step - loss: 0.2723 - accuracy: 0.9173\n",
            "Loss = 0.2722928822040558\n",
            "Test Accuracy = 0.9173333048820496\n"
          ],
          "name": "stdout"
        }
      ]
    }
  ]
}