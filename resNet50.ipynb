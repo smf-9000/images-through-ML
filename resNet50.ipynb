{
  "nbformat": 4,
  "nbformat_minor": 0,
  "metadata": {
    "kernelspec": {
      "display_name": "Python 3",
      "language": "python",
      "name": "python3"
    },
    "language_info": {
      "codemirror_mode": {
        "name": "ipython",
        "version": 3
      },
      "file_extension": ".py",
      "mimetype": "text/x-python",
      "name": "python",
      "nbconvert_exporter": "python",
      "pygments_lexer": "ipython3",
      "version": "3.6.8"
    },
    "colab": {
      "name": "resNet50.ipynb",
      "provenance": [],
      "collapsed_sections": [
        "kclKLLs4snOD",
        "HvQKT7QW5Ow3",
        "yGyBgxuoxRlu",
        "hkdXenhk5FUx"
      ],
      "include_colab_link": true
    },
    "accelerator": "GPU"
  },
  "cells": [
    {
      "cell_type": "markdown",
      "metadata": {
        "id": "view-in-github",
        "colab_type": "text"
      },
      "source": [
        "<a href=\"https://colab.research.google.com/github/smf-9000/images-through-ML/blob/main/resNet50.ipynb\" target=\"_parent\"><img src=\"https://colab.research.google.com/assets/colab-badge.svg\" alt=\"Open In Colab\"/></a>"
      ]
    },
    {
      "cell_type": "code",
      "metadata": {
        "colab": {
          "base_uri": "https://localhost:8080/"
        },
        "id": "KcqbHHG_5OYf",
        "outputId": "50721603-002a-45df-9a00-e0065b85ee9a"
      },
      "source": [
        "from google.colab import drive\n",
        "drive.mount('/content/drive')"
      ],
      "execution_count": null,
      "outputs": [
        {
          "output_type": "stream",
          "text": [
            "Mounted at /content/drive\n"
          ],
          "name": "stdout"
        }
      ]
    },
    {
      "cell_type": "markdown",
      "metadata": {
        "id": "kclKLLs4snOD"
      },
      "source": [
        "## dataset 3 (dataset 2 with OOM prevention because of colab)\n"
      ]
    },
    {
      "cell_type": "code",
      "metadata": {
        "id": "3WNHpTMbstxh"
      },
      "source": [
        "import matplotlib.pyplot as plt\n",
        "import numpy as np\n",
        "import os\n",
        "import PIL\n",
        "import tensorflow as tf\n",
        "\n",
        "from tensorflow import keras\n",
        "from tensorflow.keras import layers\n",
        "from tensorflow.keras.models import Sequential"
      ],
      "execution_count": null,
      "outputs": []
    },
    {
      "cell_type": "code",
      "metadata": {
        "id": "bxxbBpcBstvK"
      },
      "source": [
        "# !mkdir /content/dataset_2\n",
        "# !unzip \"/content/drive/MyDrive/MY-WORK/datasets/image data of Natural Scenes around the world [kaggle]/archive.zip\" -d /content/dataset_2\n",
        "!unzip \"/content/drive/MyDrive/dataset_shortcuts/archive.zip\" -d /content/dataset_2"
      ],
      "execution_count": null,
      "outputs": []
    },
    {
      "cell_type": "code",
      "metadata": {
        "id": "9w3wopqhs7S3"
      },
      "source": [
        "batch_size = 64\n",
        "img_height = 224\n",
        "img_width = 224"
      ],
      "execution_count": null,
      "outputs": []
    },
    {
      "cell_type": "code",
      "metadata": {
        "id": "3XHqMU-Gs-2D"
      },
      "source": [
        "train_data_gen = tf.keras.preprocessing.image.ImageDataGenerator()\n",
        "test_data_gen = tf.keras.preprocessing.image.ImageDataGenerator()"
      ],
      "execution_count": null,
      "outputs": []
    },
    {
      "cell_type": "code",
      "metadata": {
        "colab": {
          "base_uri": "https://localhost:8080/"
        },
        "id": "WkN_4Aifs-tj",
        "outputId": "c24f9e69-2c8c-481f-f8e0-053767fd90c9"
      },
      "source": [
        "train_ds = train_data_gen.flow_from_directory(\n",
        "        '/content/dataset_2/seg_train/seg_train',\n",
        "        target_size=(img_height, img_width),\n",
        "        batch_size=batch_size,\n",
        "        class_mode='sparse')"
      ],
      "execution_count": null,
      "outputs": [
        {
          "output_type": "stream",
          "text": [
            "Found 14034 images belonging to 6 classes.\n"
          ],
          "name": "stdout"
        }
      ]
    },
    {
      "cell_type": "code",
      "metadata": {
        "colab": {
          "base_uri": "https://localhost:8080/"
        },
        "id": "FUBf2PW1s7MV",
        "outputId": "5ef724bc-15af-4ace-ef7a-994d735f7ae9"
      },
      "source": [
        "val_ds = test_data_gen.flow_from_directory(\n",
        "        '/content/dataset_2/seg_test/seg_test',\n",
        "        target_size=(img_height, img_width),\n",
        "        batch_size=batch_size,\n",
        "        class_mode='sparse')"
      ],
      "execution_count": null,
      "outputs": [
        {
          "output_type": "stream",
          "text": [
            "Found 3000 images belonging to 6 classes.\n"
          ],
          "name": "stdout"
        }
      ]
    },
    {
      "cell_type": "code",
      "metadata": {
        "colab": {
          "base_uri": "https://localhost:8080/"
        },
        "id": "dutligF3stqN",
        "outputId": "0b2761cd-4e90-43b5-e2d2-fc511ca1b0d1"
      },
      "source": [
        "class_names = train_ds.class_indices\n",
        "print('class_names', class_names)\n",
        "no_of_classes = len(class_names)\n",
        "print('no_of_classes', no_of_classes)"
      ],
      "execution_count": null,
      "outputs": [
        {
          "output_type": "stream",
          "text": [
            "class_names {'buildings': 0, 'forest': 1, 'glacier': 2, 'mountain': 3, 'sea': 4, 'street': 5}\n",
            "no_of_classes 6\n"
          ],
          "name": "stdout"
        }
      ]
    },
    {
      "cell_type": "markdown",
      "metadata": {
        "id": "g6Dlw66YmPo9"
      },
      "source": [
        "\n",
        "\n",
        "```\n",
        "# -----------------------------------------------------------\n",
        "```\n",
        "\n"
      ]
    },
    {
      "cell_type": "markdown",
      "metadata": {
        "id": "HvQKT7QW5Ow3"
      },
      "source": [
        "## dataset 2"
      ]
    },
    {
      "cell_type": "markdown",
      "metadata": {
        "id": "ccTAu2jM8k94"
      },
      "source": [
        "\n",
        "\n",
        "```\n",
        "{\n",
        "  'buildings',\n",
        "  'forest',\n",
        "  'glacier',\n",
        "  'mountain',\n",
        "  'sea',\n",
        "  'street'\n",
        "}\n",
        "```\n",
        "\n"
      ]
    },
    {
      "cell_type": "code",
      "metadata": {
        "id": "6rxI8ZvT5sw4"
      },
      "source": [
        "import matplotlib.pyplot as plt\n",
        "import numpy as np\n",
        "import os\n",
        "import PIL\n",
        "import tensorflow as tf\n",
        "\n",
        "from tensorflow import keras\n",
        "from tensorflow.keras import layers\n",
        "from tensorflow.keras.models import Sequential"
      ],
      "execution_count": null,
      "outputs": []
    },
    {
      "cell_type": "code",
      "metadata": {
        "id": "gtptcqF25stT"
      },
      "source": [
        "!mkdir /content/dataset_2\n",
        "# !unzip \"/content/drive/MyDrive/MY-WORK/datasets/image data of Natural Scenes around the world [kaggle]/archive.zip\" -d /content/dataset_2\n",
        "!unzip \"/content/drive/MyDrive/dataset_shortcuts/archive.zip\" -d /content/dataset_2"
      ],
      "execution_count": null,
      "outputs": []
    },
    {
      "cell_type": "code",
      "metadata": {
        "id": "6EbmU84w5sp2"
      },
      "source": [
        "batch_size = 32\n",
        "img_height = 224\n",
        "img_width = 224"
      ],
      "execution_count": null,
      "outputs": []
    },
    {
      "cell_type": "code",
      "metadata": {
        "colab": {
          "base_uri": "https://localhost:8080/"
        },
        "id": "AqoDqeO45siW",
        "outputId": "648a830f-3ef3-4eaf-dcf1-c1302d7a06c1"
      },
      "source": [
        "train_ds = tf.keras.preprocessing.image_dataset_from_directory(\n",
        "  \"/content/dataset_2/seg_train/seg_train\",\n",
        "  validation_split=0.4,\n",
        "  subset=\"training\",\n",
        "  seed=42,\n",
        "  image_size=(img_height, img_width),\n",
        "  batch_size=batch_size)"
      ],
      "execution_count": null,
      "outputs": [
        {
          "output_type": "stream",
          "text": [
            "Found 14034 files belonging to 6 classes.\n",
            "Using 8421 files for training.\n"
          ],
          "name": "stdout"
        }
      ]
    },
    {
      "cell_type": "code",
      "metadata": {
        "colab": {
          "base_uri": "https://localhost:8080/"
        },
        "id": "2D1x7woz5sY9",
        "outputId": "b90a7c13-8528-4341-aab5-0026ac96e6d1"
      },
      "source": [
        "val_ds = tf.keras.preprocessing.image_dataset_from_directory(\n",
        "  \"/content/dataset_2/seg_train/seg_train\",\n",
        "  validation_split=0.2,\n",
        "  subset=\"validation\",\n",
        "  seed=42,\n",
        "  image_size=(img_height, img_width),\n",
        "  batch_size=batch_size)"
      ],
      "execution_count": null,
      "outputs": [
        {
          "output_type": "stream",
          "text": [
            "Found 14034 files belonging to 6 classes.\n",
            "Using 2806 files for validation.\n"
          ],
          "name": "stdout"
        }
      ]
    },
    {
      "cell_type": "code",
      "metadata": {
        "colab": {
          "base_uri": "https://localhost:8080/"
        },
        "id": "nkwBIQ_v7AU_",
        "outputId": "ad4f517b-cec7-4d41-aa3a-125a4d7319c6"
      },
      "source": [
        "class_names = train_ds.class_names\n",
        "print(class_names)\n",
        "no_of_classes = len(class_names)\n",
        "print(no_of_classes)"
      ],
      "execution_count": null,
      "outputs": [
        {
          "output_type": "stream",
          "text": [
            "['buildings', 'forest', 'glacier', 'mountain', 'sea', 'street']\n",
            "6\n"
          ],
          "name": "stdout"
        }
      ]
    },
    {
      "cell_type": "code",
      "metadata": {
        "id": "ShbgfIv-7AR_"
      },
      "source": [
        "AUTOTUNE = tf.data.AUTOTUNE\n",
        "\n",
        "train_ds = train_ds.cache().shuffle(1000).prefetch(buffer_size=AUTOTUNE)\n",
        "val_ds = val_ds.cache().prefetch(buffer_size=AUTOTUNE)"
      ],
      "execution_count": null,
      "outputs": []
    },
    {
      "cell_type": "markdown",
      "metadata": {
        "id": "XXwV2l2_8RMn"
      },
      "source": [
        "\n",
        "\n",
        "```\n",
        "# -----------------------------------------------------------\n",
        "```\n",
        "\n"
      ]
    },
    {
      "cell_type": "markdown",
      "metadata": {
        "id": "yGyBgxuoxRlu"
      },
      "source": [
        "## dataset 1"
      ]
    },
    {
      "cell_type": "code",
      "metadata": {
        "id": "NpyYvlSol6LO"
      },
      "source": [
        "import matplotlib.pyplot as plt\n",
        "import numpy as np\n",
        "import os\n",
        "import PIL\n",
        "import tensorflow as tf\n",
        "\n",
        "from tensorflow import keras\n",
        "from tensorflow.keras import layers\n",
        "from tensorflow.keras.models import Sequential"
      ],
      "execution_count": null,
      "outputs": []
    },
    {
      "cell_type": "markdown",
      "metadata": {
        "id": "DPHx8-t-VrVo"
      },
      "source": [
        "\n",
        "```\n",
        "flower_photo/\n",
        "  daisy/\n",
        "  dandelion/\n",
        "  roses/\n",
        "  sunflowers/\n",
        "  tulips/\n",
        "```"
      ]
    },
    {
      "cell_type": "code",
      "metadata": {
        "id": "so4LBG3LmPtp"
      },
      "source": [
        "import pathlib\n",
        "dataset_url = \"https://storage.googleapis.com/download.tensorflow.org/example_images/flower_photos.tgz\"\n",
        "data_dir = tf.keras.utils.get_file('flower_photos', origin=dataset_url, untar=True, cache_dir='/content')\n",
        "data_dir = pathlib.Path(data_dir)"
      ],
      "execution_count": null,
      "outputs": []
    },
    {
      "cell_type": "code",
      "metadata": {
        "id": "Q5Ae9fKamVfb"
      },
      "source": [
        "batch_size = 64\n",
        "img_height = 224\n",
        "img_width = 224"
      ],
      "execution_count": null,
      "outputs": []
    },
    {
      "cell_type": "code",
      "metadata": {
        "colab": {
          "base_uri": "https://localhost:8080/"
        },
        "id": "lIDg4ZyumYaW",
        "outputId": "dfb037c0-8af1-469e-9bb5-6012c0cfac74"
      },
      "source": [
        "train_ds = tf.keras.preprocessing.image_dataset_from_directory(\n",
        "  data_dir,\n",
        "  validation_split=0.2,\n",
        "  subset=\"training\",\n",
        "  seed=42,\n",
        "  image_size=(img_height, img_width),\n",
        "  batch_size=batch_size)"
      ],
      "execution_count": null,
      "outputs": [
        {
          "output_type": "stream",
          "text": [
            "Found 3670 files belonging to 5 classes.\n",
            "Using 2936 files for training.\n"
          ],
          "name": "stdout"
        }
      ]
    },
    {
      "cell_type": "code",
      "metadata": {
        "colab": {
          "base_uri": "https://localhost:8080/"
        },
        "id": "RPOF1HwgmdmF",
        "outputId": "8c320418-2498-4a62-eec7-96435fb77017"
      },
      "source": [
        "val_ds = tf.keras.preprocessing.image_dataset_from_directory(\n",
        "  data_dir,\n",
        "  validation_split=0.2,\n",
        "  subset=\"validation\",\n",
        "  seed=42,\n",
        "  image_size=(img_height, img_width),\n",
        "  batch_size=batch_size)"
      ],
      "execution_count": null,
      "outputs": [
        {
          "output_type": "stream",
          "text": [
            "Found 3670 files belonging to 5 classes.\n",
            "Using 734 files for validation.\n"
          ],
          "name": "stdout"
        }
      ]
    },
    {
      "cell_type": "code",
      "metadata": {
        "colab": {
          "base_uri": "https://localhost:8080/"
        },
        "id": "PxEjI2L6mowQ",
        "outputId": "f8fa25df-3088-46ed-edc2-6fd5c5fa72e8"
      },
      "source": [
        "class_names = train_ds.class_names\n",
        "print(class_names)"
      ],
      "execution_count": null,
      "outputs": [
        {
          "output_type": "stream",
          "text": [
            "['daisy', 'dandelion', 'roses', 'sunflowers', 'tulips']\n"
          ],
          "name": "stdout"
        }
      ]
    },
    {
      "cell_type": "code",
      "metadata": {
        "id": "FZMC9Cm1mpvo"
      },
      "source": [
        "no_of_classes = len(class_names)"
      ],
      "execution_count": null,
      "outputs": []
    },
    {
      "cell_type": "code",
      "metadata": {
        "id": "MpgseqRvm2ii"
      },
      "source": [
        "AUTOTUNE = tf.data.AUTOTUNE\n",
        "\n",
        "train_ds = train_ds.cache().shuffle(1000).prefetch(buffer_size=AUTOTUNE)\n",
        "val_ds = val_ds.cache().prefetch(buffer_size=AUTOTUNE)"
      ],
      "execution_count": null,
      "outputs": []
    },
    {
      "cell_type": "markdown",
      "metadata": {
        "id": "SfKN8yQsl8VS"
      },
      "source": [
        "\n",
        "\n",
        "```\n",
        "# -----------------------------------------------------------\n",
        "```\n",
        "\n"
      ]
    },
    {
      "cell_type": "markdown",
      "metadata": {
        "id": "hkdXenhk5FUx"
      },
      "source": [
        "## old dataset"
      ]
    },
    {
      "cell_type": "code",
      "metadata": {
        "id": "03Mb5IdPKMUf"
      },
      "source": [
        "import tensorflow as tf\n",
        "import pathlib\n",
        "import os\n",
        "import pandas as pd "
      ],
      "execution_count": null,
      "outputs": []
    },
    {
      "cell_type": "code",
      "metadata": {
        "colab": {
          "base_uri": "https://localhost:8080/"
        },
        "id": "PKkkdpQDKQm1",
        "outputId": "11a156df-e751-4649-c51c-0248f1be746c"
      },
      "source": [
        "\n",
        "dataset_url = \"https://storage.googleapis.com/download.tensorflow.org/example_images/flower_photos.tgz\"\n",
        "data_dir = tf.keras.utils.get_file('flower_photos', origin=dataset_url, untar=True, cache_dir='/content')\n",
        "data_dir = pathlib.Path(data_dir)"
      ],
      "execution_count": null,
      "outputs": [
        {
          "output_type": "stream",
          "text": [
            "Downloading data from https://storage.googleapis.com/download.tensorflow.org/example_images/flower_photos.tgz\n",
            "228818944/228813984 [==============================] - 3s 0us/step\n"
          ],
          "name": "stdout"
        }
      ]
    },
    {
      "cell_type": "code",
      "metadata": {
        "colab": {
          "base_uri": "https://localhost:8080/"
        },
        "id": "XS4z8ZKYKrEc",
        "outputId": "435f7428-1ae2-4128-fe5b-2adabafb0b28"
      },
      "source": [
        "path_str = '/content/datasets/flower_photos'\n",
        "\n",
        "dataset_path = [name for name in os.listdir(path_str) if os.path.isdir(os.path.join(path_str, name))]\n",
        "\n",
        "flower_types = [name for name in os.listdir(path_str) if os.path.isdir(os.path.join(path_str, name))]\n",
        "print (flower_types)\n",
        "\n",
        "no_of_classes = len(flower_types)"
      ],
      "execution_count": null,
      "outputs": [
        {
          "output_type": "stream",
          "text": [
            "['dandelion', 'roses', 'sunflowers', 'tulips', 'daisy']\n"
          ],
          "name": "stdout"
        }
      ]
    },
    {
      "cell_type": "code",
      "metadata": {
        "id": "0CQHsY2gIYgT"
      },
      "source": [
        "flowers = []\n",
        "\n",
        "for item in flower_types:\n",
        "  tmp_flowers_list = os.listdir(path_str + '/' +item)\n",
        "\n",
        "  for flower in tmp_flowers_list:\n",
        "    flowers.append((item, str(path_str + '/' +item) + '/' + flower))\n",
        "\n",
        "# flowers"
      ],
      "execution_count": null,
      "outputs": []
    },
    {
      "cell_type": "code",
      "metadata": {
        "colab": {
          "base_uri": "https://localhost:8080/",
          "height": 204
        },
        "id": "0PDQFDSYIYgV",
        "outputId": "3857159e-420c-44bc-c103-2400024e71fc"
      },
      "source": [
        "flowers_df = pd.DataFrame(data=flowers, columns=['class', 'image'])\n",
        "flowers_df.head()"
      ],
      "execution_count": null,
      "outputs": [
        {
          "output_type": "execute_result",
          "data": {
            "text/html": [
              "<div>\n",
              "<style scoped>\n",
              "    .dataframe tbody tr th:only-of-type {\n",
              "        vertical-align: middle;\n",
              "    }\n",
              "\n",
              "    .dataframe tbody tr th {\n",
              "        vertical-align: top;\n",
              "    }\n",
              "\n",
              "    .dataframe thead th {\n",
              "        text-align: right;\n",
              "    }\n",
              "</style>\n",
              "<table border=\"1\" class=\"dataframe\">\n",
              "  <thead>\n",
              "    <tr style=\"text-align: right;\">\n",
              "      <th></th>\n",
              "      <th>class</th>\n",
              "      <th>image</th>\n",
              "    </tr>\n",
              "  </thead>\n",
              "  <tbody>\n",
              "    <tr>\n",
              "      <th>0</th>\n",
              "      <td>dandelion</td>\n",
              "      <td>path_str/dandelion/129019877_8eea2978ca_m.jpg</td>\n",
              "    </tr>\n",
              "    <tr>\n",
              "      <th>1</th>\n",
              "      <td>dandelion</td>\n",
              "      <td>path_str/dandelion/5629940298_634f35125c.jpg</td>\n",
              "    </tr>\n",
              "    <tr>\n",
              "      <th>2</th>\n",
              "      <td>dandelion</td>\n",
              "      <td>path_str/dandelion/2503034372_db7867de51_m.jpg</td>\n",
              "    </tr>\n",
              "    <tr>\n",
              "      <th>3</th>\n",
              "      <td>dandelion</td>\n",
              "      <td>path_str/dandelion/2444241718_3ca53ce921.jpg</td>\n",
              "    </tr>\n",
              "    <tr>\n",
              "      <th>4</th>\n",
              "      <td>dandelion</td>\n",
              "      <td>path_str/dandelion/19617643201_9922eec796.jpg</td>\n",
              "    </tr>\n",
              "  </tbody>\n",
              "</table>\n",
              "</div>"
            ],
            "text/plain": [
              "       class                                           image\n",
              "0  dandelion   path_str/dandelion/129019877_8eea2978ca_m.jpg\n",
              "1  dandelion    path_str/dandelion/5629940298_634f35125c.jpg\n",
              "2  dandelion  path_str/dandelion/2503034372_db7867de51_m.jpg\n",
              "3  dandelion    path_str/dandelion/2444241718_3ca53ce921.jpg\n",
              "4  dandelion   path_str/dandelion/19617643201_9922eec796.jpg"
            ]
          },
          "metadata": {
            "tags": []
          },
          "execution_count": 5
        }
      ]
    },
    {
      "cell_type": "code",
      "metadata": {
        "colab": {
          "base_uri": "https://localhost:8080/"
        },
        "id": "y28iJpKUIYgX",
        "outputId": "42e26405-b643-4b38-c984-610d65d3a696"
      },
      "source": [
        "flower_count = flowers_df['class'].value_counts()\n",
        "\n",
        "flower_count"
      ],
      "execution_count": null,
      "outputs": [
        {
          "output_type": "execute_result",
          "data": {
            "text/plain": [
              "dandelion     898\n",
              "tulips        799\n",
              "sunflowers    699\n",
              "roses         641\n",
              "daisy         633\n",
              "Name: class, dtype: int64"
            ]
          },
          "metadata": {
            "tags": []
          },
          "execution_count": 6
        }
      ]
    },
    {
      "cell_type": "code",
      "metadata": {
        "id": "FOvaZ6yvN26k"
      },
      "source": [
        "import cv2\n",
        "import numpy as np \n"
      ],
      "execution_count": null,
      "outputs": []
    },
    {
      "cell_type": "code",
      "metadata": {
        "id": "DBVh9hNVIYih"
      },
      "source": [
        "im_size = 224\n",
        "images = []\n",
        "labels = []\n",
        "\n",
        "for _cl in flower_types:\n",
        "  data_path = path_str + '/' + _cl\n",
        "  filenames = [f_name for f_name in os.listdir(data_path) ]\n",
        "  for f in filenames:\n",
        "    img = cv2.imread(data_path + '/' + f)\n",
        "    img = cv2.resize(img, (im_size, im_size))\n",
        "    images.append(img)\n",
        "    labels.append(_cl)\n",
        "labels    "
      ],
      "execution_count": null,
      "outputs": []
    },
    {
      "cell_type": "code",
      "metadata": {
        "colab": {
          "base_uri": "https://localhost:8080/"
        },
        "id": "SQchwFAoIYii",
        "outputId": "e6a5a561-2431-4f72-a36d-dd56c8e668b4"
      },
      "source": [
        "# Transform the image array to a numpy type\n",
        "images = np.array(images)\n",
        "images.shape   "
      ],
      "execution_count": null,
      "outputs": [
        {
          "output_type": "execute_result",
          "data": {
            "text/plain": [
              "(3670, 224, 224, 3)"
            ]
          },
          "metadata": {
            "tags": []
          },
          "execution_count": 9
        }
      ]
    },
    {
      "cell_type": "code",
      "metadata": {
        "id": "g7qn3jZIIYij"
      },
      "source": [
        "images = images.astype('float32') / 255.0"
      ],
      "execution_count": null,
      "outputs": []
    },
    {
      "cell_type": "code",
      "metadata": {
        "id": "7qFEGFX8IYij"
      },
      "source": [
        "from sklearn.preprocessing import LabelEncoder , OneHotEncoder\n",
        "y = flowers_df['class'].values\n",
        "\n",
        "labelencoder = LabelEncoder()\n",
        "y = labelencoder.fit_transform (y)\n",
        "\n",
        "Y = y"
      ],
      "execution_count": null,
      "outputs": []
    },
    {
      "cell_type": "code",
      "metadata": {
        "colab": {
          "base_uri": "https://localhost:8080/"
        },
        "id": "bnYmsqIzIYil",
        "outputId": "cafa3ade-997d-434e-b037-4892c5470c40"
      },
      "source": [
        "from sklearn.model_selection import train_test_split\n",
        "\n",
        "train_x, test_x, train_y, test_y = train_test_split(images, Y, test_size=0.1, random_state=42)\n",
        "\n",
        "print(train_x.shape)\n",
        "print(train_y.shape)\n",
        "print(test_x.shape)\n",
        "print(test_y.shape)"
      ],
      "execution_count": null,
      "outputs": [
        {
          "output_type": "stream",
          "text": [
            "(3303, 224, 224, 3)\n",
            "(3303,)\n",
            "(367, 224, 224, 3)\n",
            "(367,)\n"
          ],
          "name": "stdout"
        }
      ]
    },
    {
      "cell_type": "markdown",
      "metadata": {
        "id": "fDbhKIAcmAMl"
      },
      "source": [
        "\n",
        "\n",
        "```\n",
        "# -----------------------------------------------------------\n",
        "```\n",
        "\n"
      ]
    },
    {
      "cell_type": "markdown",
      "metadata": {
        "id": "tv_IJfMXxcdd"
      },
      "source": [
        "## code"
      ]
    },
    {
      "cell_type": "code",
      "metadata": {
        "id": "eFEAe_vbIYin"
      },
      "source": [
        "import numpy as np\n",
        "from tensorflow.keras.models import Model, load_model\n",
        "from tensorflow.keras.preprocessing import image\n",
        "from tensorflow.keras.applications.imagenet_utils import preprocess_input\n",
        "from tensorflow.keras.initializers import glorot_uniform"
      ],
      "execution_count": null,
      "outputs": []
    },
    {
      "cell_type": "code",
      "metadata": {
        "id": "mmuTsh7KOtCX"
      },
      "source": [
        "data_augmentation = keras.Sequential(\n",
        "  [\n",
        "    layers.experimental.preprocessing.RandomFlip(\"horizontal\", \n",
        "                                                 input_shape=(img_height, \n",
        "                                                              img_width,\n",
        "                                                              3)),\n",
        "    layers.experimental.preprocessing.RandomRotation(0.05),\n",
        "    layers.experimental.preprocessing.RandomZoom(0.05),\n",
        "  ]\n",
        ")"
      ],
      "execution_count": null,
      "outputs": []
    },
    {
      "cell_type": "code",
      "metadata": {
        "id": "wXKgmuJisNli"
      },
      "source": [
        "# plt.figure(figsize=(10, 10))\n",
        "# image = train_ds.next()[0]\n",
        "# for i in range(9):\n",
        "#   augmented_images = data_augmentation(image)\n",
        "#   ax = plt.subplot(3, 3, i + 1)\n",
        "#   plt.imshow(augmented_images[0].numpy().astype(\"uint8\"))\n",
        "#   plt.axis(\"off\")"
      ],
      "execution_count": null,
      "outputs": []
    },
    {
      "cell_type": "code",
      "metadata": {
        "id": "U3f5-RgGIYip"
      },
      "source": [
        "def id_block(input_tensor, kernel_size, filters, L, B):\n",
        "  L = str(L) + '_' + 'idBlock_'\n",
        "  B = str(B)\n",
        "\n",
        "  filters_1, filters_2, filters_3 = filters\n",
        "  \n",
        "  # whenever we use resNet, next three lines are always go together !!!!!\n",
        "  X = layers.Conv2D(filters = filters_1, kernel_size = (1, 1), strides = (1,1), name=L + B + '_' + 'conv2d_1')(input_tensor)\n",
        "  X = layers.BatchNormalization(axis = 3, name=L + B + '_' + 'bn_1')(X)\n",
        "  X = layers.Activation('relu', name=L + B + '_' + 'relu_1')(X)\n",
        "\n",
        "  X = layers.Conv2D(filters = filters_2, kernel_size = kernel_size, strides = (1,1), padding = 'same', name=L + B + '_' + 'conv2d_2')(X)\n",
        "  X = layers.BatchNormalization(axis = 3, name=L + B + '_' + 'bn_2')(X)\n",
        "  X = layers.Activation('relu', name=L + B + '_' + 'relu_2')(X)\n",
        "\n",
        "  X = layers.Conv2D(filters = filters_3, kernel_size = (1, 1), strides = (1,1), name=L + B + '_' + 'conv2d_3')(X)\n",
        "  X = layers.BatchNormalization(axis = 3, name=L + B + '_' + 'bn_3')(X)\n",
        "\n",
        "  X = layers.Add(name=L + B + '_' + 'add_1')([X, input_tensor])\n",
        "  X = layers.Activation('relu', name=L + B + '_' + 'relu_3')(X)  # !!!!!\n",
        "  \n",
        "  return X"
      ],
      "execution_count": null,
      "outputs": []
    },
    {
      "cell_type": "code",
      "metadata": {
        "id": "GAtTSZnKIYir"
      },
      "source": [
        "# when X is different shape than X_shortcut !!!!!\n",
        "def conv_block(input_tensor, kernel_size, filters, L, B, strides = (2,2)):\n",
        "  L = str(L) + '_' + 'convBlock_'\n",
        "  B = str(B)\n",
        "\n",
        "  filters_1, filters_2, filters_3 = filters\n",
        "  \n",
        "  X = layers.Conv2D(filters = filters_1, kernel_size = (1, 1), strides = strides, name=L + B + '_' + 'conv2d_1')(input_tensor)\n",
        "  X = layers.BatchNormalization(axis = 3, name=L + B + '_' + 'bn_1')(X)\n",
        "  X = layers.Activation('relu', name=L + B + '_' + 'relu_1')(X)\n",
        "\n",
        "  X = layers.Conv2D(filters = filters_2, kernel_size = kernel_size, strides = (1,1), padding = 'same', name=L + B + '_' + 'conv2d_2')(X)\n",
        "  X = layers.BatchNormalization(axis = 3, name=L + B + '_' + 'bn_2')(X)\n",
        "  X = layers.Activation('relu', name=L + B + '_' + 'relu_2')(X)\n",
        "\n",
        "  X = layers.Conv2D(filters = filters_3, kernel_size = (1, 1), strides = (1,1), name=L + B + '_' + 'conv2d_3')(X)\n",
        "  X = layers.BatchNormalization(axis = 3, name=L + B + '_' + 'bn_3')(X)\n",
        "\n",
        "  # !!!!!\n",
        "  X_shortcut = layers.Conv2D(filters = filters_3, kernel_size = (1, 1), strides = strides, name=L + B + '_' + 'conv2d_sc')(input_tensor)\n",
        "  X_shortcut = layers.BatchNormalization(axis = 3, name=L + B + '_' + 'bn_sc')(X_shortcut)\n",
        "\n",
        "  X = layers.Add(name=L + B + '_' + 'add_1')([X, X_shortcut])\n",
        "  X = layers.Activation('relu', name=L + B + '_' + 'relu_3')(X) # !!!!!\n",
        "  \n",
        "  return X"
      ],
      "execution_count": null,
      "outputs": []
    },
    {
      "cell_type": "markdown",
      "metadata": {
        "id": "g7PfFMJ_IYir"
      },
      "source": [
        "\n",
        "# ResNet 50 "
      ]
    },
    {
      "cell_type": "code",
      "metadata": {
        "id": "zbk3dr3yIYit"
      },
      "source": [
        "\n",
        "def ResNet50(input_shape=(224, 224, 3), classes=no_of_classes):\n",
        "\n",
        "  X_input = layers.Input(input_shape)\n",
        "\n",
        "  # X = data_augmentation(X_input)\n",
        "  X = layers.experimental.preprocessing.Rescaling(1./255)(X_input)\n",
        "\n",
        "  X = layers.Conv2D(64, (7, 7), strides=(2, 2), padding='same')(X) \n",
        "  X = layers.BatchNormalization(axis=3)(X) \n",
        "  X = layers.Activation('relu')(X)\n",
        "  X = layers.MaxPooling2D((3, 3), strides=(2, 2), padding='same')(X)\n",
        "\n",
        "  # x = layers.ZeroPadding2D((3, 3))(X)\n",
        "  # x = layers.Conv2D(64, (7, 7), strides=(2, 2), name='conv1')(x)\n",
        "  # x = layers.BatchNormalization(axis=3, name='bn_conv1')(x)\n",
        "  # x = layers.Activation('relu')(x)\n",
        "  # X = layers.MaxPooling2D((3, 3), strides=(2, 2))(x)\n",
        "\n",
        "  X = conv_block(X, kernel_size=(3,3), filters=[64, 64, 256], L=1, B=1, strides=(1, 1))\n",
        "  X = id_block(X, kernel_size=(3,3), filters=[64, 64, 256], L=1, B=2) \n",
        "  X = id_block(X, kernel_size=(3,3), filters=[64, 64, 256], L=1, B=3)\n",
        "\n",
        "  X = conv_block(X, kernel_size=(3,3), filters=[128, 128, 512], L=2, B=1)\n",
        "  X = id_block(X, kernel_size=(3,3), filters=[128, 128, 512], L=2, B=2)\n",
        "  X = id_block(X, kernel_size=(3,3), filters=[128, 128, 512], L=2, B=3)\n",
        "  X = id_block(X, kernel_size=(3,3), filters=[128, 128, 512], L=2, B=4)\n",
        "\n",
        "  X = conv_block(X, kernel_size=(3,3), filters=[256, 256, 1024], L=3, B=1)\n",
        "  X = id_block(X, kernel_size=(3,3), filters=[256, 256, 1024], L=3, B=2)\n",
        "  X = id_block(X, kernel_size=(3,3), filters=[256, 256, 1024], L=3, B=3)\n",
        "  X = id_block(X, kernel_size=(3,3), filters=[256, 256, 1024], L=3, B=4)\n",
        "  X = id_block(X, kernel_size=(3,3), filters=[256, 256, 1024], L=3, B=5)\n",
        "  X = id_block(X, kernel_size=(3,3), filters=[256, 256, 1024], L=3, B=6)\n",
        "\n",
        "  X = conv_block(X, kernel_size=(3,3), filters=[512, 512, 2048], L=4, B=1)\n",
        "  X = id_block(X, kernel_size=(3,3), filters=[512, 512, 2048], L=4, B=2)\n",
        "  X = id_block(X, kernel_size=(3,3), filters=[512, 512, 2048], L=4, B=3)\n",
        "\n",
        "  X = layers.AveragePooling2D((7,7), strides=(7,7), name=\"avg_pool\")(X)\n",
        "\n",
        "  X = layers.Flatten()(X)\n",
        "  # X = layers.Dense(2048, activation='relu')(X)\n",
        "  # X = layers.Dropout(rate=0.2)(X)\n",
        "  # X = layers.Dense(512, activation='relu')(X)\n",
        "  # X = layers.Dropout(rate=0.2)(X)\n",
        "  X = layers.Dense(classes, name='fc' + str(classes))(X) # activation='softmax',\n",
        "  \n",
        "  model = Model(inputs = X_input, outputs = X, name='resNet_50')\n",
        "\n",
        "  return model\n"
      ],
      "execution_count": null,
      "outputs": []
    },
    {
      "cell_type": "code",
      "metadata": {
        "id": "Oy3cPHK4IYit"
      },
      "source": [
        "model = ResNet50(input_shape = (224, 224, 3), classes = no_of_classes)"
      ],
      "execution_count": null,
      "outputs": []
    },
    {
      "cell_type": "code",
      "metadata": {
        "id": "gITmHBcrIYiu"
      },
      "source": [
        "model.compile(\n",
        "          optimizer=tf.keras.optimizers.Adam(learning_rate=0.00001), #'adam' # learning_rate=0.00001\n",
        "          loss=tf.keras.losses.SparseCategoricalCrossentropy(from_logits=True), # from_logits=True\n",
        "          metrics=['accuracy'])  # sparse_categorical_accuracy"
      ],
      "execution_count": null,
      "outputs": []
    },
    {
      "cell_type": "code",
      "metadata": {
        "colab": {
          "base_uri": "https://localhost:8080/"
        },
        "id": "_ga31_GVIYiu",
        "outputId": "6fb59c56-c3bc-414e-ade0-bf6182c960af"
      },
      "source": [
        "model.summary()"
      ],
      "execution_count": null,
      "outputs": [
        {
          "output_type": "stream",
          "text": [
            "Model: \"resNet_50\"\n",
            "__________________________________________________________________________________________________\n",
            "Layer (type)                    Output Shape         Param #     Connected to                     \n",
            "==================================================================================================\n",
            "input_1 (InputLayer)            [(None, 224, 224, 3) 0                                            \n",
            "__________________________________________________________________________________________________\n",
            "rescaling (Rescaling)           (None, 224, 224, 3)  0           input_1[0][0]                    \n",
            "__________________________________________________________________________________________________\n",
            "conv2d (Conv2D)                 (None, 112, 112, 64) 9472        rescaling[0][0]                  \n",
            "__________________________________________________________________________________________________\n",
            "batch_normalization (BatchNorma (None, 112, 112, 64) 256         conv2d[0][0]                     \n",
            "__________________________________________________________________________________________________\n",
            "activation (Activation)         (None, 112, 112, 64) 0           batch_normalization[0][0]        \n",
            "__________________________________________________________________________________________________\n",
            "max_pooling2d (MaxPooling2D)    (None, 56, 56, 64)   0           activation[0][0]                 \n",
            "__________________________________________________________________________________________________\n",
            "1_convBlock_1_conv2d_1 (Conv2D) (None, 56, 56, 64)   4160        max_pooling2d[0][0]              \n",
            "__________________________________________________________________________________________________\n",
            "1_convBlock_1_bn_1 (BatchNormal (None, 56, 56, 64)   256         1_convBlock_1_conv2d_1[0][0]     \n",
            "__________________________________________________________________________________________________\n",
            "1_convBlock_1_relu_1 (Activatio (None, 56, 56, 64)   0           1_convBlock_1_bn_1[0][0]         \n",
            "__________________________________________________________________________________________________\n",
            "1_convBlock_1_conv2d_2 (Conv2D) (None, 56, 56, 64)   36928       1_convBlock_1_relu_1[0][0]       \n",
            "__________________________________________________________________________________________________\n",
            "1_convBlock_1_bn_2 (BatchNormal (None, 56, 56, 64)   256         1_convBlock_1_conv2d_2[0][0]     \n",
            "__________________________________________________________________________________________________\n",
            "1_convBlock_1_relu_2 (Activatio (None, 56, 56, 64)   0           1_convBlock_1_bn_2[0][0]         \n",
            "__________________________________________________________________________________________________\n",
            "1_convBlock_1_conv2d_3 (Conv2D) (None, 56, 56, 256)  16640       1_convBlock_1_relu_2[0][0]       \n",
            "__________________________________________________________________________________________________\n",
            "1_convBlock_1_conv2d_sc (Conv2D (None, 56, 56, 256)  16640       max_pooling2d[0][0]              \n",
            "__________________________________________________________________________________________________\n",
            "1_convBlock_1_bn_3 (BatchNormal (None, 56, 56, 256)  1024        1_convBlock_1_conv2d_3[0][0]     \n",
            "__________________________________________________________________________________________________\n",
            "1_convBlock_1_bn_sc (BatchNorma (None, 56, 56, 256)  1024        1_convBlock_1_conv2d_sc[0][0]    \n",
            "__________________________________________________________________________________________________\n",
            "1_convBlock_1_add_1 (Add)       (None, 56, 56, 256)  0           1_convBlock_1_bn_3[0][0]         \n",
            "                                                                 1_convBlock_1_bn_sc[0][0]        \n",
            "__________________________________________________________________________________________________\n",
            "1_convBlock_1_relu_3 (Activatio (None, 56, 56, 256)  0           1_convBlock_1_add_1[0][0]        \n",
            "__________________________________________________________________________________________________\n",
            "1_idBlock_2_conv2d_1 (Conv2D)   (None, 56, 56, 64)   16448       1_convBlock_1_relu_3[0][0]       \n",
            "__________________________________________________________________________________________________\n",
            "1_idBlock_2_bn_1 (BatchNormaliz (None, 56, 56, 64)   256         1_idBlock_2_conv2d_1[0][0]       \n",
            "__________________________________________________________________________________________________\n",
            "1_idBlock_2_relu_1 (Activation) (None, 56, 56, 64)   0           1_idBlock_2_bn_1[0][0]           \n",
            "__________________________________________________________________________________________________\n",
            "1_idBlock_2_conv2d_2 (Conv2D)   (None, 56, 56, 64)   36928       1_idBlock_2_relu_1[0][0]         \n",
            "__________________________________________________________________________________________________\n",
            "1_idBlock_2_bn_2 (BatchNormaliz (None, 56, 56, 64)   256         1_idBlock_2_conv2d_2[0][0]       \n",
            "__________________________________________________________________________________________________\n",
            "1_idBlock_2_relu_2 (Activation) (None, 56, 56, 64)   0           1_idBlock_2_bn_2[0][0]           \n",
            "__________________________________________________________________________________________________\n",
            "1_idBlock_2_conv2d_3 (Conv2D)   (None, 56, 56, 256)  16640       1_idBlock_2_relu_2[0][0]         \n",
            "__________________________________________________________________________________________________\n",
            "1_idBlock_2_bn_3 (BatchNormaliz (None, 56, 56, 256)  1024        1_idBlock_2_conv2d_3[0][0]       \n",
            "__________________________________________________________________________________________________\n",
            "1_idBlock_2_add_1 (Add)         (None, 56, 56, 256)  0           1_idBlock_2_bn_3[0][0]           \n",
            "                                                                 1_convBlock_1_relu_3[0][0]       \n",
            "__________________________________________________________________________________________________\n",
            "1_idBlock_2_relu_3 (Activation) (None, 56, 56, 256)  0           1_idBlock_2_add_1[0][0]          \n",
            "__________________________________________________________________________________________________\n",
            "1_idBlock_3_conv2d_1 (Conv2D)   (None, 56, 56, 64)   16448       1_idBlock_2_relu_3[0][0]         \n",
            "__________________________________________________________________________________________________\n",
            "1_idBlock_3_bn_1 (BatchNormaliz (None, 56, 56, 64)   256         1_idBlock_3_conv2d_1[0][0]       \n",
            "__________________________________________________________________________________________________\n",
            "1_idBlock_3_relu_1 (Activation) (None, 56, 56, 64)   0           1_idBlock_3_bn_1[0][0]           \n",
            "__________________________________________________________________________________________________\n",
            "1_idBlock_3_conv2d_2 (Conv2D)   (None, 56, 56, 64)   36928       1_idBlock_3_relu_1[0][0]         \n",
            "__________________________________________________________________________________________________\n",
            "1_idBlock_3_bn_2 (BatchNormaliz (None, 56, 56, 64)   256         1_idBlock_3_conv2d_2[0][0]       \n",
            "__________________________________________________________________________________________________\n",
            "1_idBlock_3_relu_2 (Activation) (None, 56, 56, 64)   0           1_idBlock_3_bn_2[0][0]           \n",
            "__________________________________________________________________________________________________\n",
            "1_idBlock_3_conv2d_3 (Conv2D)   (None, 56, 56, 256)  16640       1_idBlock_3_relu_2[0][0]         \n",
            "__________________________________________________________________________________________________\n",
            "1_idBlock_3_bn_3 (BatchNormaliz (None, 56, 56, 256)  1024        1_idBlock_3_conv2d_3[0][0]       \n",
            "__________________________________________________________________________________________________\n",
            "1_idBlock_3_add_1 (Add)         (None, 56, 56, 256)  0           1_idBlock_3_bn_3[0][0]           \n",
            "                                                                 1_idBlock_2_relu_3[0][0]         \n",
            "__________________________________________________________________________________________________\n",
            "1_idBlock_3_relu_3 (Activation) (None, 56, 56, 256)  0           1_idBlock_3_add_1[0][0]          \n",
            "__________________________________________________________________________________________________\n",
            "2_convBlock_1_conv2d_1 (Conv2D) (None, 28, 28, 128)  32896       1_idBlock_3_relu_3[0][0]         \n",
            "__________________________________________________________________________________________________\n",
            "2_convBlock_1_bn_1 (BatchNormal (None, 28, 28, 128)  512         2_convBlock_1_conv2d_1[0][0]     \n",
            "__________________________________________________________________________________________________\n",
            "2_convBlock_1_relu_1 (Activatio (None, 28, 28, 128)  0           2_convBlock_1_bn_1[0][0]         \n",
            "__________________________________________________________________________________________________\n",
            "2_convBlock_1_conv2d_2 (Conv2D) (None, 28, 28, 128)  147584      2_convBlock_1_relu_1[0][0]       \n",
            "__________________________________________________________________________________________________\n",
            "2_convBlock_1_bn_2 (BatchNormal (None, 28, 28, 128)  512         2_convBlock_1_conv2d_2[0][0]     \n",
            "__________________________________________________________________________________________________\n",
            "2_convBlock_1_relu_2 (Activatio (None, 28, 28, 128)  0           2_convBlock_1_bn_2[0][0]         \n",
            "__________________________________________________________________________________________________\n",
            "2_convBlock_1_conv2d_3 (Conv2D) (None, 28, 28, 512)  66048       2_convBlock_1_relu_2[0][0]       \n",
            "__________________________________________________________________________________________________\n",
            "2_convBlock_1_conv2d_sc (Conv2D (None, 28, 28, 512)  131584      1_idBlock_3_relu_3[0][0]         \n",
            "__________________________________________________________________________________________________\n",
            "2_convBlock_1_bn_3 (BatchNormal (None, 28, 28, 512)  2048        2_convBlock_1_conv2d_3[0][0]     \n",
            "__________________________________________________________________________________________________\n",
            "2_convBlock_1_bn_sc (BatchNorma (None, 28, 28, 512)  2048        2_convBlock_1_conv2d_sc[0][0]    \n",
            "__________________________________________________________________________________________________\n",
            "2_convBlock_1_add_1 (Add)       (None, 28, 28, 512)  0           2_convBlock_1_bn_3[0][0]         \n",
            "                                                                 2_convBlock_1_bn_sc[0][0]        \n",
            "__________________________________________________________________________________________________\n",
            "2_convBlock_1_relu_3 (Activatio (None, 28, 28, 512)  0           2_convBlock_1_add_1[0][0]        \n",
            "__________________________________________________________________________________________________\n",
            "2_idBlock_2_conv2d_1 (Conv2D)   (None, 28, 28, 128)  65664       2_convBlock_1_relu_3[0][0]       \n",
            "__________________________________________________________________________________________________\n",
            "2_idBlock_2_bn_1 (BatchNormaliz (None, 28, 28, 128)  512         2_idBlock_2_conv2d_1[0][0]       \n",
            "__________________________________________________________________________________________________\n",
            "2_idBlock_2_relu_1 (Activation) (None, 28, 28, 128)  0           2_idBlock_2_bn_1[0][0]           \n",
            "__________________________________________________________________________________________________\n",
            "2_idBlock_2_conv2d_2 (Conv2D)   (None, 28, 28, 128)  147584      2_idBlock_2_relu_1[0][0]         \n",
            "__________________________________________________________________________________________________\n",
            "2_idBlock_2_bn_2 (BatchNormaliz (None, 28, 28, 128)  512         2_idBlock_2_conv2d_2[0][0]       \n",
            "__________________________________________________________________________________________________\n",
            "2_idBlock_2_relu_2 (Activation) (None, 28, 28, 128)  0           2_idBlock_2_bn_2[0][0]           \n",
            "__________________________________________________________________________________________________\n",
            "2_idBlock_2_conv2d_3 (Conv2D)   (None, 28, 28, 512)  66048       2_idBlock_2_relu_2[0][0]         \n",
            "__________________________________________________________________________________________________\n",
            "2_idBlock_2_bn_3 (BatchNormaliz (None, 28, 28, 512)  2048        2_idBlock_2_conv2d_3[0][0]       \n",
            "__________________________________________________________________________________________________\n",
            "2_idBlock_2_add_1 (Add)         (None, 28, 28, 512)  0           2_idBlock_2_bn_3[0][0]           \n",
            "                                                                 2_convBlock_1_relu_3[0][0]       \n",
            "__________________________________________________________________________________________________\n",
            "2_idBlock_2_relu_3 (Activation) (None, 28, 28, 512)  0           2_idBlock_2_add_1[0][0]          \n",
            "__________________________________________________________________________________________________\n",
            "2_idBlock_3_conv2d_1 (Conv2D)   (None, 28, 28, 128)  65664       2_idBlock_2_relu_3[0][0]         \n",
            "__________________________________________________________________________________________________\n",
            "2_idBlock_3_bn_1 (BatchNormaliz (None, 28, 28, 128)  512         2_idBlock_3_conv2d_1[0][0]       \n",
            "__________________________________________________________________________________________________\n",
            "2_idBlock_3_relu_1 (Activation) (None, 28, 28, 128)  0           2_idBlock_3_bn_1[0][0]           \n",
            "__________________________________________________________________________________________________\n",
            "2_idBlock_3_conv2d_2 (Conv2D)   (None, 28, 28, 128)  147584      2_idBlock_3_relu_1[0][0]         \n",
            "__________________________________________________________________________________________________\n",
            "2_idBlock_3_bn_2 (BatchNormaliz (None, 28, 28, 128)  512         2_idBlock_3_conv2d_2[0][0]       \n",
            "__________________________________________________________________________________________________\n",
            "2_idBlock_3_relu_2 (Activation) (None, 28, 28, 128)  0           2_idBlock_3_bn_2[0][0]           \n",
            "__________________________________________________________________________________________________\n",
            "2_idBlock_3_conv2d_3 (Conv2D)   (None, 28, 28, 512)  66048       2_idBlock_3_relu_2[0][0]         \n",
            "__________________________________________________________________________________________________\n",
            "2_idBlock_3_bn_3 (BatchNormaliz (None, 28, 28, 512)  2048        2_idBlock_3_conv2d_3[0][0]       \n",
            "__________________________________________________________________________________________________\n",
            "2_idBlock_3_add_1 (Add)         (None, 28, 28, 512)  0           2_idBlock_3_bn_3[0][0]           \n",
            "                                                                 2_idBlock_2_relu_3[0][0]         \n",
            "__________________________________________________________________________________________________\n",
            "2_idBlock_3_relu_3 (Activation) (None, 28, 28, 512)  0           2_idBlock_3_add_1[0][0]          \n",
            "__________________________________________________________________________________________________\n",
            "2_idBlock_4_conv2d_1 (Conv2D)   (None, 28, 28, 128)  65664       2_idBlock_3_relu_3[0][0]         \n",
            "__________________________________________________________________________________________________\n",
            "2_idBlock_4_bn_1 (BatchNormaliz (None, 28, 28, 128)  512         2_idBlock_4_conv2d_1[0][0]       \n",
            "__________________________________________________________________________________________________\n",
            "2_idBlock_4_relu_1 (Activation) (None, 28, 28, 128)  0           2_idBlock_4_bn_1[0][0]           \n",
            "__________________________________________________________________________________________________\n",
            "2_idBlock_4_conv2d_2 (Conv2D)   (None, 28, 28, 128)  147584      2_idBlock_4_relu_1[0][0]         \n",
            "__________________________________________________________________________________________________\n",
            "2_idBlock_4_bn_2 (BatchNormaliz (None, 28, 28, 128)  512         2_idBlock_4_conv2d_2[0][0]       \n",
            "__________________________________________________________________________________________________\n",
            "2_idBlock_4_relu_2 (Activation) (None, 28, 28, 128)  0           2_idBlock_4_bn_2[0][0]           \n",
            "__________________________________________________________________________________________________\n",
            "2_idBlock_4_conv2d_3 (Conv2D)   (None, 28, 28, 512)  66048       2_idBlock_4_relu_2[0][0]         \n",
            "__________________________________________________________________________________________________\n",
            "2_idBlock_4_bn_3 (BatchNormaliz (None, 28, 28, 512)  2048        2_idBlock_4_conv2d_3[0][0]       \n",
            "__________________________________________________________________________________________________\n",
            "2_idBlock_4_add_1 (Add)         (None, 28, 28, 512)  0           2_idBlock_4_bn_3[0][0]           \n",
            "                                                                 2_idBlock_3_relu_3[0][0]         \n",
            "__________________________________________________________________________________________________\n",
            "2_idBlock_4_relu_3 (Activation) (None, 28, 28, 512)  0           2_idBlock_4_add_1[0][0]          \n",
            "__________________________________________________________________________________________________\n",
            "3_convBlock_1_conv2d_1 (Conv2D) (None, 14, 14, 256)  131328      2_idBlock_4_relu_3[0][0]         \n",
            "__________________________________________________________________________________________________\n",
            "3_convBlock_1_bn_1 (BatchNormal (None, 14, 14, 256)  1024        3_convBlock_1_conv2d_1[0][0]     \n",
            "__________________________________________________________________________________________________\n",
            "3_convBlock_1_relu_1 (Activatio (None, 14, 14, 256)  0           3_convBlock_1_bn_1[0][0]         \n",
            "__________________________________________________________________________________________________\n",
            "3_convBlock_1_conv2d_2 (Conv2D) (None, 14, 14, 256)  590080      3_convBlock_1_relu_1[0][0]       \n",
            "__________________________________________________________________________________________________\n",
            "3_convBlock_1_bn_2 (BatchNormal (None, 14, 14, 256)  1024        3_convBlock_1_conv2d_2[0][0]     \n",
            "__________________________________________________________________________________________________\n",
            "3_convBlock_1_relu_2 (Activatio (None, 14, 14, 256)  0           3_convBlock_1_bn_2[0][0]         \n",
            "__________________________________________________________________________________________________\n",
            "3_convBlock_1_conv2d_3 (Conv2D) (None, 14, 14, 1024) 263168      3_convBlock_1_relu_2[0][0]       \n",
            "__________________________________________________________________________________________________\n",
            "3_convBlock_1_conv2d_sc (Conv2D (None, 14, 14, 1024) 525312      2_idBlock_4_relu_3[0][0]         \n",
            "__________________________________________________________________________________________________\n",
            "3_convBlock_1_bn_3 (BatchNormal (None, 14, 14, 1024) 4096        3_convBlock_1_conv2d_3[0][0]     \n",
            "__________________________________________________________________________________________________\n",
            "3_convBlock_1_bn_sc (BatchNorma (None, 14, 14, 1024) 4096        3_convBlock_1_conv2d_sc[0][0]    \n",
            "__________________________________________________________________________________________________\n",
            "3_convBlock_1_add_1 (Add)       (None, 14, 14, 1024) 0           3_convBlock_1_bn_3[0][0]         \n",
            "                                                                 3_convBlock_1_bn_sc[0][0]        \n",
            "__________________________________________________________________________________________________\n",
            "3_convBlock_1_relu_3 (Activatio (None, 14, 14, 1024) 0           3_convBlock_1_add_1[0][0]        \n",
            "__________________________________________________________________________________________________\n",
            "3_idBlock_2_conv2d_1 (Conv2D)   (None, 14, 14, 256)  262400      3_convBlock_1_relu_3[0][0]       \n",
            "__________________________________________________________________________________________________\n",
            "3_idBlock_2_bn_1 (BatchNormaliz (None, 14, 14, 256)  1024        3_idBlock_2_conv2d_1[0][0]       \n",
            "__________________________________________________________________________________________________\n",
            "3_idBlock_2_relu_1 (Activation) (None, 14, 14, 256)  0           3_idBlock_2_bn_1[0][0]           \n",
            "__________________________________________________________________________________________________\n",
            "3_idBlock_2_conv2d_2 (Conv2D)   (None, 14, 14, 256)  590080      3_idBlock_2_relu_1[0][0]         \n",
            "__________________________________________________________________________________________________\n",
            "3_idBlock_2_bn_2 (BatchNormaliz (None, 14, 14, 256)  1024        3_idBlock_2_conv2d_2[0][0]       \n",
            "__________________________________________________________________________________________________\n",
            "3_idBlock_2_relu_2 (Activation) (None, 14, 14, 256)  0           3_idBlock_2_bn_2[0][0]           \n",
            "__________________________________________________________________________________________________\n",
            "3_idBlock_2_conv2d_3 (Conv2D)   (None, 14, 14, 1024) 263168      3_idBlock_2_relu_2[0][0]         \n",
            "__________________________________________________________________________________________________\n",
            "3_idBlock_2_bn_3 (BatchNormaliz (None, 14, 14, 1024) 4096        3_idBlock_2_conv2d_3[0][0]       \n",
            "__________________________________________________________________________________________________\n",
            "3_idBlock_2_add_1 (Add)         (None, 14, 14, 1024) 0           3_idBlock_2_bn_3[0][0]           \n",
            "                                                                 3_convBlock_1_relu_3[0][0]       \n",
            "__________________________________________________________________________________________________\n",
            "3_idBlock_2_relu_3 (Activation) (None, 14, 14, 1024) 0           3_idBlock_2_add_1[0][0]          \n",
            "__________________________________________________________________________________________________\n",
            "3_idBlock_3_conv2d_1 (Conv2D)   (None, 14, 14, 256)  262400      3_idBlock_2_relu_3[0][0]         \n",
            "__________________________________________________________________________________________________\n",
            "3_idBlock_3_bn_1 (BatchNormaliz (None, 14, 14, 256)  1024        3_idBlock_3_conv2d_1[0][0]       \n",
            "__________________________________________________________________________________________________\n",
            "3_idBlock_3_relu_1 (Activation) (None, 14, 14, 256)  0           3_idBlock_3_bn_1[0][0]           \n",
            "__________________________________________________________________________________________________\n",
            "3_idBlock_3_conv2d_2 (Conv2D)   (None, 14, 14, 256)  590080      3_idBlock_3_relu_1[0][0]         \n",
            "__________________________________________________________________________________________________\n",
            "3_idBlock_3_bn_2 (BatchNormaliz (None, 14, 14, 256)  1024        3_idBlock_3_conv2d_2[0][0]       \n",
            "__________________________________________________________________________________________________\n",
            "3_idBlock_3_relu_2 (Activation) (None, 14, 14, 256)  0           3_idBlock_3_bn_2[0][0]           \n",
            "__________________________________________________________________________________________________\n",
            "3_idBlock_3_conv2d_3 (Conv2D)   (None, 14, 14, 1024) 263168      3_idBlock_3_relu_2[0][0]         \n",
            "__________________________________________________________________________________________________\n",
            "3_idBlock_3_bn_3 (BatchNormaliz (None, 14, 14, 1024) 4096        3_idBlock_3_conv2d_3[0][0]       \n",
            "__________________________________________________________________________________________________\n",
            "3_idBlock_3_add_1 (Add)         (None, 14, 14, 1024) 0           3_idBlock_3_bn_3[0][0]           \n",
            "                                                                 3_idBlock_2_relu_3[0][0]         \n",
            "__________________________________________________________________________________________________\n",
            "3_idBlock_3_relu_3 (Activation) (None, 14, 14, 1024) 0           3_idBlock_3_add_1[0][0]          \n",
            "__________________________________________________________________________________________________\n",
            "3_idBlock_4_conv2d_1 (Conv2D)   (None, 14, 14, 256)  262400      3_idBlock_3_relu_3[0][0]         \n",
            "__________________________________________________________________________________________________\n",
            "3_idBlock_4_bn_1 (BatchNormaliz (None, 14, 14, 256)  1024        3_idBlock_4_conv2d_1[0][0]       \n",
            "__________________________________________________________________________________________________\n",
            "3_idBlock_4_relu_1 (Activation) (None, 14, 14, 256)  0           3_idBlock_4_bn_1[0][0]           \n",
            "__________________________________________________________________________________________________\n",
            "3_idBlock_4_conv2d_2 (Conv2D)   (None, 14, 14, 256)  590080      3_idBlock_4_relu_1[0][0]         \n",
            "__________________________________________________________________________________________________\n",
            "3_idBlock_4_bn_2 (BatchNormaliz (None, 14, 14, 256)  1024        3_idBlock_4_conv2d_2[0][0]       \n",
            "__________________________________________________________________________________________________\n",
            "3_idBlock_4_relu_2 (Activation) (None, 14, 14, 256)  0           3_idBlock_4_bn_2[0][0]           \n",
            "__________________________________________________________________________________________________\n",
            "3_idBlock_4_conv2d_3 (Conv2D)   (None, 14, 14, 1024) 263168      3_idBlock_4_relu_2[0][0]         \n",
            "__________________________________________________________________________________________________\n",
            "3_idBlock_4_bn_3 (BatchNormaliz (None, 14, 14, 1024) 4096        3_idBlock_4_conv2d_3[0][0]       \n",
            "__________________________________________________________________________________________________\n",
            "3_idBlock_4_add_1 (Add)         (None, 14, 14, 1024) 0           3_idBlock_4_bn_3[0][0]           \n",
            "                                                                 3_idBlock_3_relu_3[0][0]         \n",
            "__________________________________________________________________________________________________\n",
            "3_idBlock_4_relu_3 (Activation) (None, 14, 14, 1024) 0           3_idBlock_4_add_1[0][0]          \n",
            "__________________________________________________________________________________________________\n",
            "3_idBlock_5_conv2d_1 (Conv2D)   (None, 14, 14, 256)  262400      3_idBlock_4_relu_3[0][0]         \n",
            "__________________________________________________________________________________________________\n",
            "3_idBlock_5_bn_1 (BatchNormaliz (None, 14, 14, 256)  1024        3_idBlock_5_conv2d_1[0][0]       \n",
            "__________________________________________________________________________________________________\n",
            "3_idBlock_5_relu_1 (Activation) (None, 14, 14, 256)  0           3_idBlock_5_bn_1[0][0]           \n",
            "__________________________________________________________________________________________________\n",
            "3_idBlock_5_conv2d_2 (Conv2D)   (None, 14, 14, 256)  590080      3_idBlock_5_relu_1[0][0]         \n",
            "__________________________________________________________________________________________________\n",
            "3_idBlock_5_bn_2 (BatchNormaliz (None, 14, 14, 256)  1024        3_idBlock_5_conv2d_2[0][0]       \n",
            "__________________________________________________________________________________________________\n",
            "3_idBlock_5_relu_2 (Activation) (None, 14, 14, 256)  0           3_idBlock_5_bn_2[0][0]           \n",
            "__________________________________________________________________________________________________\n",
            "3_idBlock_5_conv2d_3 (Conv2D)   (None, 14, 14, 1024) 263168      3_idBlock_5_relu_2[0][0]         \n",
            "__________________________________________________________________________________________________\n",
            "3_idBlock_5_bn_3 (BatchNormaliz (None, 14, 14, 1024) 4096        3_idBlock_5_conv2d_3[0][0]       \n",
            "__________________________________________________________________________________________________\n",
            "3_idBlock_5_add_1 (Add)         (None, 14, 14, 1024) 0           3_idBlock_5_bn_3[0][0]           \n",
            "                                                                 3_idBlock_4_relu_3[0][0]         \n",
            "__________________________________________________________________________________________________\n",
            "3_idBlock_5_relu_3 (Activation) (None, 14, 14, 1024) 0           3_idBlock_5_add_1[0][0]          \n",
            "__________________________________________________________________________________________________\n",
            "3_idBlock_6_conv2d_1 (Conv2D)   (None, 14, 14, 256)  262400      3_idBlock_5_relu_3[0][0]         \n",
            "__________________________________________________________________________________________________\n",
            "3_idBlock_6_bn_1 (BatchNormaliz (None, 14, 14, 256)  1024        3_idBlock_6_conv2d_1[0][0]       \n",
            "__________________________________________________________________________________________________\n",
            "3_idBlock_6_relu_1 (Activation) (None, 14, 14, 256)  0           3_idBlock_6_bn_1[0][0]           \n",
            "__________________________________________________________________________________________________\n",
            "3_idBlock_6_conv2d_2 (Conv2D)   (None, 14, 14, 256)  590080      3_idBlock_6_relu_1[0][0]         \n",
            "__________________________________________________________________________________________________\n",
            "3_idBlock_6_bn_2 (BatchNormaliz (None, 14, 14, 256)  1024        3_idBlock_6_conv2d_2[0][0]       \n",
            "__________________________________________________________________________________________________\n",
            "3_idBlock_6_relu_2 (Activation) (None, 14, 14, 256)  0           3_idBlock_6_bn_2[0][0]           \n",
            "__________________________________________________________________________________________________\n",
            "3_idBlock_6_conv2d_3 (Conv2D)   (None, 14, 14, 1024) 263168      3_idBlock_6_relu_2[0][0]         \n",
            "__________________________________________________________________________________________________\n",
            "3_idBlock_6_bn_3 (BatchNormaliz (None, 14, 14, 1024) 4096        3_idBlock_6_conv2d_3[0][0]       \n",
            "__________________________________________________________________________________________________\n",
            "3_idBlock_6_add_1 (Add)         (None, 14, 14, 1024) 0           3_idBlock_6_bn_3[0][0]           \n",
            "                                                                 3_idBlock_5_relu_3[0][0]         \n",
            "__________________________________________________________________________________________________\n",
            "3_idBlock_6_relu_3 (Activation) (None, 14, 14, 1024) 0           3_idBlock_6_add_1[0][0]          \n",
            "__________________________________________________________________________________________________\n",
            "4_convBlock_1_conv2d_1 (Conv2D) (None, 7, 7, 512)    524800      3_idBlock_6_relu_3[0][0]         \n",
            "__________________________________________________________________________________________________\n",
            "4_convBlock_1_bn_1 (BatchNormal (None, 7, 7, 512)    2048        4_convBlock_1_conv2d_1[0][0]     \n",
            "__________________________________________________________________________________________________\n",
            "4_convBlock_1_relu_1 (Activatio (None, 7, 7, 512)    0           4_convBlock_1_bn_1[0][0]         \n",
            "__________________________________________________________________________________________________\n",
            "4_convBlock_1_conv2d_2 (Conv2D) (None, 7, 7, 512)    2359808     4_convBlock_1_relu_1[0][0]       \n",
            "__________________________________________________________________________________________________\n",
            "4_convBlock_1_bn_2 (BatchNormal (None, 7, 7, 512)    2048        4_convBlock_1_conv2d_2[0][0]     \n",
            "__________________________________________________________________________________________________\n",
            "4_convBlock_1_relu_2 (Activatio (None, 7, 7, 512)    0           4_convBlock_1_bn_2[0][0]         \n",
            "__________________________________________________________________________________________________\n",
            "4_convBlock_1_conv2d_3 (Conv2D) (None, 7, 7, 2048)   1050624     4_convBlock_1_relu_2[0][0]       \n",
            "__________________________________________________________________________________________________\n",
            "4_convBlock_1_conv2d_sc (Conv2D (None, 7, 7, 2048)   2099200     3_idBlock_6_relu_3[0][0]         \n",
            "__________________________________________________________________________________________________\n",
            "4_convBlock_1_bn_3 (BatchNormal (None, 7, 7, 2048)   8192        4_convBlock_1_conv2d_3[0][0]     \n",
            "__________________________________________________________________________________________________\n",
            "4_convBlock_1_bn_sc (BatchNorma (None, 7, 7, 2048)   8192        4_convBlock_1_conv2d_sc[0][0]    \n",
            "__________________________________________________________________________________________________\n",
            "4_convBlock_1_add_1 (Add)       (None, 7, 7, 2048)   0           4_convBlock_1_bn_3[0][0]         \n",
            "                                                                 4_convBlock_1_bn_sc[0][0]        \n",
            "__________________________________________________________________________________________________\n",
            "4_convBlock_1_relu_3 (Activatio (None, 7, 7, 2048)   0           4_convBlock_1_add_1[0][0]        \n",
            "__________________________________________________________________________________________________\n",
            "4_idBlock_2_conv2d_1 (Conv2D)   (None, 7, 7, 512)    1049088     4_convBlock_1_relu_3[0][0]       \n",
            "__________________________________________________________________________________________________\n",
            "4_idBlock_2_bn_1 (BatchNormaliz (None, 7, 7, 512)    2048        4_idBlock_2_conv2d_1[0][0]       \n",
            "__________________________________________________________________________________________________\n",
            "4_idBlock_2_relu_1 (Activation) (None, 7, 7, 512)    0           4_idBlock_2_bn_1[0][0]           \n",
            "__________________________________________________________________________________________________\n",
            "4_idBlock_2_conv2d_2 (Conv2D)   (None, 7, 7, 512)    2359808     4_idBlock_2_relu_1[0][0]         \n",
            "__________________________________________________________________________________________________\n",
            "4_idBlock_2_bn_2 (BatchNormaliz (None, 7, 7, 512)    2048        4_idBlock_2_conv2d_2[0][0]       \n",
            "__________________________________________________________________________________________________\n",
            "4_idBlock_2_relu_2 (Activation) (None, 7, 7, 512)    0           4_idBlock_2_bn_2[0][0]           \n",
            "__________________________________________________________________________________________________\n",
            "4_idBlock_2_conv2d_3 (Conv2D)   (None, 7, 7, 2048)   1050624     4_idBlock_2_relu_2[0][0]         \n",
            "__________________________________________________________________________________________________\n",
            "4_idBlock_2_bn_3 (BatchNormaliz (None, 7, 7, 2048)   8192        4_idBlock_2_conv2d_3[0][0]       \n",
            "__________________________________________________________________________________________________\n",
            "4_idBlock_2_add_1 (Add)         (None, 7, 7, 2048)   0           4_idBlock_2_bn_3[0][0]           \n",
            "                                                                 4_convBlock_1_relu_3[0][0]       \n",
            "__________________________________________________________________________________________________\n",
            "4_idBlock_2_relu_3 (Activation) (None, 7, 7, 2048)   0           4_idBlock_2_add_1[0][0]          \n",
            "__________________________________________________________________________________________________\n",
            "4_idBlock_3_conv2d_1 (Conv2D)   (None, 7, 7, 512)    1049088     4_idBlock_2_relu_3[0][0]         \n",
            "__________________________________________________________________________________________________\n",
            "4_idBlock_3_bn_1 (BatchNormaliz (None, 7, 7, 512)    2048        4_idBlock_3_conv2d_1[0][0]       \n",
            "__________________________________________________________________________________________________\n",
            "4_idBlock_3_relu_1 (Activation) (None, 7, 7, 512)    0           4_idBlock_3_bn_1[0][0]           \n",
            "__________________________________________________________________________________________________\n",
            "4_idBlock_3_conv2d_2 (Conv2D)   (None, 7, 7, 512)    2359808     4_idBlock_3_relu_1[0][0]         \n",
            "__________________________________________________________________________________________________\n",
            "4_idBlock_3_bn_2 (BatchNormaliz (None, 7, 7, 512)    2048        4_idBlock_3_conv2d_2[0][0]       \n",
            "__________________________________________________________________________________________________\n",
            "4_idBlock_3_relu_2 (Activation) (None, 7, 7, 512)    0           4_idBlock_3_bn_2[0][0]           \n",
            "__________________________________________________________________________________________________\n",
            "4_idBlock_3_conv2d_3 (Conv2D)   (None, 7, 7, 2048)   1050624     4_idBlock_3_relu_2[0][0]         \n",
            "__________________________________________________________________________________________________\n",
            "4_idBlock_3_bn_3 (BatchNormaliz (None, 7, 7, 2048)   8192        4_idBlock_3_conv2d_3[0][0]       \n",
            "__________________________________________________________________________________________________\n",
            "4_idBlock_3_add_1 (Add)         (None, 7, 7, 2048)   0           4_idBlock_3_bn_3[0][0]           \n",
            "                                                                 4_idBlock_2_relu_3[0][0]         \n",
            "__________________________________________________________________________________________________\n",
            "4_idBlock_3_relu_3 (Activation) (None, 7, 7, 2048)   0           4_idBlock_3_add_1[0][0]          \n",
            "__________________________________________________________________________________________________\n",
            "avg_pool (AveragePooling2D)     (None, 1, 1, 2048)   0           4_idBlock_3_relu_3[0][0]         \n",
            "__________________________________________________________________________________________________\n",
            "flatten (Flatten)               (None, 2048)         0           avg_pool[0][0]                   \n",
            "__________________________________________________________________________________________________\n",
            "fc6 (Dense)                     (None, 6)            12294       flatten[0][0]                    \n",
            "==================================================================================================\n",
            "Total params: 23,600,006\n",
            "Trainable params: 23,546,886\n",
            "Non-trainable params: 53,120\n",
            "__________________________________________________________________________________________________\n"
          ],
          "name": "stdout"
        }
      ]
    },
    {
      "cell_type": "code",
      "metadata": {
        "id": "BpQmQesyJwUI"
      },
      "source": [
        "def scheduler(epoch, lr):\n",
        "  if epoch <= 5:\n",
        "    return 0.05\n",
        "  else:\n",
        "    return 0.00001\n"
      ],
      "execution_count": null,
      "outputs": []
    },
    {
      "cell_type": "code",
      "metadata": {
        "id": "YVY_a3BvKJWo"
      },
      "source": [
        "lrSchedulerCallback = tf.keras.callbacks.LearningRateScheduler(scheduler)"
      ],
      "execution_count": null,
      "outputs": []
    },
    {
      "cell_type": "code",
      "metadata": {
        "colab": {
          "base_uri": "https://localhost:8080/"
        },
        "id": "Ggyb61tsIYiw",
        "outputId": "5d19fc20-43d3-4364-9524-8f549ce9a175"
      },
      "source": [
        "history = model.fit(\n",
        "                  train_ds, \n",
        "                  epochs = 30, \n",
        "                  batch_size = batch_size, \n",
        "                  validation_data=val_ds, \n",
        "                  validation_batch_size=batch_size) "
      ],
      "execution_count": null,
      "outputs": [
        {
          "output_type": "stream",
          "text": [
            "Epoch 1/30\n",
            "220/220 [==============================] - 342s 1s/step - loss: 1.4114 - accuracy: 0.4178 - val_loss: 3.6652 - val_accuracy: 0.1700\n",
            "Epoch 2/30\n",
            "220/220 [==============================] - 300s 1s/step - loss: 1.1041 - accuracy: 0.5700 - val_loss: 2.4994 - val_accuracy: 0.2850\n",
            "Epoch 3/30\n",
            "220/220 [==============================] - 300s 1s/step - loss: 0.9759 - accuracy: 0.6196 - val_loss: 1.1411 - val_accuracy: 0.5677\n",
            "Epoch 4/30\n",
            "220/220 [==============================] - 300s 1s/step - loss: 0.9016 - accuracy: 0.6546 - val_loss: 0.9624 - val_accuracy: 0.6377\n",
            "Epoch 5/30\n",
            "220/220 [==============================] - 300s 1s/step - loss: 0.8423 - accuracy: 0.6825 - val_loss: 0.9085 - val_accuracy: 0.6623\n",
            "Epoch 6/30\n",
            "220/220 [==============================] - 300s 1s/step - loss: 0.7913 - accuracy: 0.7039 - val_loss: 0.8784 - val_accuracy: 0.6733\n",
            "Epoch 7/30\n",
            "220/220 [==============================] - 300s 1s/step - loss: 0.7503 - accuracy: 0.7210 - val_loss: 0.9189 - val_accuracy: 0.6670\n",
            "Epoch 8/30\n",
            "220/220 [==============================] - 300s 1s/step - loss: 0.7209 - accuracy: 0.7326 - val_loss: 0.8523 - val_accuracy: 0.6823\n",
            "Epoch 9/30\n",
            "220/220 [==============================] - 300s 1s/step - loss: 0.6890 - accuracy: 0.7488 - val_loss: 0.9258 - val_accuracy: 0.6640\n",
            "Epoch 10/30\n",
            "220/220 [==============================] - 300s 1s/step - loss: 0.6560 - accuracy: 0.7572 - val_loss: 0.8349 - val_accuracy: 0.6963\n",
            "Epoch 11/30\n",
            "220/220 [==============================] - 301s 1s/step - loss: 0.6110 - accuracy: 0.7792 - val_loss: 0.8442 - val_accuracy: 0.7030\n",
            "Epoch 12/30\n",
            "220/220 [==============================] - 300s 1s/step - loss: 0.5879 - accuracy: 0.7822 - val_loss: 0.8291 - val_accuracy: 0.6947\n",
            "Epoch 13/30\n",
            "220/220 [==============================] - 301s 1s/step - loss: 0.5535 - accuracy: 0.7970 - val_loss: 0.8961 - val_accuracy: 0.7020\n",
            "Epoch 14/30\n",
            "220/220 [==============================] - 305s 1s/step - loss: 0.5155 - accuracy: 0.8129 - val_loss: 0.8156 - val_accuracy: 0.7207\n",
            "Epoch 15/30\n",
            "220/220 [==============================] - 306s 1s/step - loss: 0.4879 - accuracy: 0.8224 - val_loss: 0.9746 - val_accuracy: 0.6723\n",
            "Epoch 16/30\n",
            "220/220 [==============================] - 305s 1s/step - loss: 0.4639 - accuracy: 0.8338 - val_loss: 0.8081 - val_accuracy: 0.7247\n",
            "Epoch 17/30\n",
            "220/220 [==============================] - 306s 1s/step - loss: 0.4262 - accuracy: 0.8483 - val_loss: 1.0332 - val_accuracy: 0.6683\n",
            "Epoch 18/30\n",
            "220/220 [==============================] - 304s 1s/step - loss: 0.4039 - accuracy: 0.8527 - val_loss: 0.7761 - val_accuracy: 0.7317\n",
            "Epoch 19/30\n",
            "220/220 [==============================] - 305s 1s/step - loss: 0.3819 - accuracy: 0.8654 - val_loss: 0.8651 - val_accuracy: 0.7237\n",
            "Epoch 20/30\n",
            "220/220 [==============================] - 306s 1s/step - loss: 0.3483 - accuracy: 0.8729 - val_loss: 0.8142 - val_accuracy: 0.7263\n",
            "Epoch 21/30\n",
            "220/220 [==============================] - 306s 1s/step - loss: 0.3206 - accuracy: 0.8841 - val_loss: 0.8913 - val_accuracy: 0.7253\n",
            "Epoch 22/30\n",
            "220/220 [==============================] - 305s 1s/step - loss: 0.3071 - accuracy: 0.8883 - val_loss: 1.0308 - val_accuracy: 0.7063\n",
            "Epoch 23/30\n",
            "220/220 [==============================] - 306s 1s/step - loss: 0.2974 - accuracy: 0.8905 - val_loss: 0.9965 - val_accuracy: 0.7157\n",
            "Epoch 24/30\n",
            "220/220 [==============================] - 305s 1s/step - loss: 0.2626 - accuracy: 0.9059 - val_loss: 1.0999 - val_accuracy: 0.6960\n",
            "Epoch 25/30\n",
            "220/220 [==============================] - 306s 1s/step - loss: 0.2518 - accuracy: 0.9113 - val_loss: 1.0986 - val_accuracy: 0.7053\n",
            "Epoch 26/30\n",
            "220/220 [==============================] - 306s 1s/step - loss: 0.2236 - accuracy: 0.9212 - val_loss: 0.9941 - val_accuracy: 0.7193\n",
            "Epoch 27/30\n",
            "220/220 [==============================] - 305s 1s/step - loss: 0.2052 - accuracy: 0.9289 - val_loss: 0.9287 - val_accuracy: 0.7480\n",
            "Epoch 28/30\n",
            "220/220 [==============================] - 301s 1s/step - loss: 0.1899 - accuracy: 0.9323 - val_loss: 0.9635 - val_accuracy: 0.7380\n",
            "Epoch 29/30\n",
            "220/220 [==============================] - 306s 1s/step - loss: 0.1874 - accuracy: 0.9333 - val_loss: 1.0580 - val_accuracy: 0.7217\n",
            "Epoch 30/30\n",
            "220/220 [==============================] - 305s 1s/step - loss: 0.1782 - accuracy: 0.9374 - val_loss: 1.1369 - val_accuracy: 0.7183\n"
          ],
          "name": "stdout"
        }
      ]
    },
    {
      "cell_type": "code",
      "metadata": {
        "id": "QM2BQed_w2I2"
      },
      "source": [
        "import matplotlib.pyplot as plt\n",
        "from matplotlib.pyplot import imshow, imread"
      ],
      "execution_count": null,
      "outputs": []
    },
    {
      "cell_type": "code",
      "metadata": {
        "id": "PyI8EVlaEfF9"
      },
      "source": [
        "def plot_graphs(history, string):\n",
        "  plt.plot(history.history[string])\n",
        "  plt.plot(history.history['val_'+string])\n",
        "  plt.xlabel(\"Epochs\")\n",
        "  plt.ylabel(string)\n",
        "  plt.legend([string, 'val_'+string])\n",
        "  plt.show()"
      ],
      "execution_count": null,
      "outputs": []
    },
    {
      "cell_type": "code",
      "metadata": {
        "colab": {
          "base_uri": "https://localhost:8080/",
          "height": 541
        },
        "id": "ZdrCE_JbEgl_",
        "outputId": "16130e1b-68ef-4649-c58b-d25a60a47a11"
      },
      "source": [
        "plot_graphs(history, 'accuracy')\n",
        "plot_graphs(history, \"loss\")"
      ],
      "execution_count": null,
      "outputs": [
        {
          "output_type": "display_data",
          "data": {
            "image/png": "[encoded data removed]",
            "text/plain": [
              "<Figure size 432x288 with 1 Axes>"
            ]
          },
          "metadata": {
            "tags": [],
            "needs_background": "light"
          }
        },
        {
          "output_type": "display_data",
          "data": {
            "image/png": "[encoded data removed]",
            "text/plain": [
              "<Figure size 432x288 with 1 Axes>"
            ]
          },
          "metadata": {
            "tags": [],
            "needs_background": "light"
          }
        }
      ]
    },
    {
      "cell_type": "code",
      "metadata": {
        "id": "HQG1Me7cIYiw",
        "colab": {
          "base_uri": "https://localhost:8080/"
        },
        "outputId": "8de139dd-5123-4ebf-aff0-0b80c0ea3ad0"
      },
      "source": [
        "preds = model.evaluate(val_ds)\n",
        "print (\"Loss = \" + str(preds[0]))\n",
        "print (\"Test Accuracy = \" + str(preds[1]))"
      ],
      "execution_count": null,
      "outputs": [
        {
          "output_type": "stream",
          "text": [
            "47/47 [==============================] - 20s 411ms/step - loss: 1.1369 - accuracy: 0.7183\n",
            "Loss = 1.136910319328308\n",
            "Test Accuracy = 0.7183333039283752\n"
          ],
          "name": "stdout"
        }
      ]
    }
  ]
}